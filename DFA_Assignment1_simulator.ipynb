{
  "nbformat": 4,
  "nbformat_minor": 0,
  "metadata": {
    "colab": {
      "name": "DFA Assignment1 simulator.ipynb",
      "version": "0.3.2",
      "provenance": [],
      "collapsed_sections": [],
      "include_colab_link": true
    },
    "kernelspec": {
      "name": "python3",
      "display_name": "Python 3"
    }
  },
  "cells": [
    {
      "cell_type": "markdown",
      "metadata": {
        "id": "view-in-github",
        "colab_type": "text"
      },
      "source": [
        "<a href=\"https://colab.research.google.com/github/GitWahome/Simulation-and-Modelling/blob/master/DFA_Assignment1_simulator.ipynb\" target=\"_parent\"><img src=\"https://colab.research.google.com/assets/colab-badge.svg\" alt=\"Open In Colab\"/></a>"
      ]
    },
    {
      "metadata": {
        "id": "1C0LQNvrS5yb",
        "colab_type": "text"
      },
      "cell_type": "markdown",
      "source": [
        "\n",
        "#MB1 - TOKEN PROCESSOR( Processes Real numbers)"
      ]
    },
    {
      "metadata": {
        "id": "2f_DV_8jor6W",
        "colab_type": "code",
        "outputId": "cd2d3247-0d07-4e46-8d3c-a9d41b21987e",
        "colab": {
          "base_uri": "https://localhost:8080/",
          "height": 221
        }
      },
      "cell_type": "code",
      "source": [
        "#Create a simulator for MB1\n",
        "class MB1():\n",
        "  \n",
        "  #Initiate the state diagram and the input strings\n",
        "  def __init__(self, input_string):\n",
        "    self.input_string = input_string\n",
        "    self.state_diagram = {\n",
        "        'A':{\n",
        "            '+':'B', '-':'B', '.':'D' ,'Ɛ':'A','D':'C'\n",
        "        },\n",
        "        'B':{\n",
        "            '+':'F', '-':'F', '.':'D' ,'Ɛ':'C','D':'C'\n",
        "        },\n",
        "        'C':{\n",
        "            '+':'F', '-':'F', '.':'D' ,'Ɛ':'C','D':'C'\n",
        "        },\n",
        "        'D':{\n",
        "            '+':'F', '-':'F', '.':'D' ,'Ɛ':'E','D':'E'\n",
        "        },\n",
        "        'E':{\n",
        "            '+':'F', '-':'F', '.':'F' ,'Ɛ':'E','D':'E'\n",
        "        },\n",
        "        'F':{\n",
        "            '+':'F', '-':'F', '.':'F' ,'Ɛ':'F','D':'F'\n",
        "        }\n",
        "    }\n",
        "    \n",
        "    \n",
        "    \n",
        "  #Standardize the input  \n",
        "  def processDs(self):\n",
        "    strD = []\n",
        "    for char in self.input_string:\n",
        "      #If the input is a number, make it a decimal. Else leave it as it. \n",
        "      try:\n",
        "        int(char)\n",
        "        strD.append('D')\n",
        "      except:\n",
        "        strD.append(char)\n",
        "    return \"\".join(strD)\n",
        "  \n",
        "  #Traverse the state map\n",
        "  def traverse_map(self):\n",
        "    print(\"\\n################# MB1 Initiated #################  \\n\")\n",
        "    \n",
        "    #Starting state\n",
        "    state = \"A\"\n",
        "    processed_input = self.processDs()\n",
        "    \n",
        "    #Traverse through standard input\n",
        "    #Add a # for termination\n",
        "    for char in processed_input+\"#\":\n",
        "      print(f\"Currently in state: {state}, next input is a {char} symbol\")\n",
        "      #Check for the next state\n",
        "      try:\n",
        "        state = self.state_diagram[state][char]\n",
        "      except:\n",
        "        if char!='#':\n",
        "          state = \"F\"\n",
        "        break\n",
        "    print(f\"Terminated in state {state}. No more inputs\")\n",
        "    print(\"\\n################# MB1 Terminated #################  \\n\")\n",
        "    return state\n",
        "  \n",
        "  \n",
        "  \n",
        "#Test cases. Some work, some dont. Here is an Upsilon if you want to reuse and copy paste it.\n",
        "#ƐƐƐƐƐƐƐƐ\n",
        "#Note:72. is the same as 72.Ɛ. Add the epsilon for this to be accepted since the symbol was D+.D*\n",
        "test1 = MB1(input_string = \"5.Ɛ\")\n",
        "test1.traverse_map()"
      ],
      "execution_count": 0,
      "outputs": [
        {
          "output_type": "stream",
          "text": [
            "\n",
            "################# MB1 Initiated #################  \n",
            "\n",
            "Currently in state: A, next input is a D symbol\n",
            "Currently in state: C, next input is a . symbol\n",
            "Currently in state: D, next input is a Ɛ symbol\n",
            "Currently in state: E, next input is a # symbol\n",
            "Terminated in state E. No more inputs\n",
            "\n",
            "################# MB1 Terminated #################  \n",
            "\n"
          ],
          "name": "stdout"
        },
        {
          "output_type": "execute_result",
          "data": {
            "text/plain": [
              "'E'"
            ]
          },
          "metadata": {
            "tags": []
          },
          "execution_count": 16
        }
      ]
    },
    {
      "metadata": {
        "id": "L858AidX1tkf",
        "colab_type": "code",
        "outputId": "29f6e01d-ba24-4266-97ca-ba43284ddd6c",
        "colab": {
          "base_uri": "https://localhost:8080/",
          "height": 204
        }
      },
      "cell_type": "code",
      "source": [
        "#TEST CASES\n",
        "test1 = MB1(input_string = \"17\")\n",
        "test1.traverse_map()"
      ],
      "execution_count": 0,
      "outputs": [
        {
          "output_type": "stream",
          "text": [
            "\n",
            "################# MB1 Initiated #################  \n",
            "\n",
            "Currently in state: A, next input is a D symbol\n",
            "Currently in state: C, next input is a D symbol\n",
            "Currently in state: C, next input is a # symbol\n",
            "Terminated in state C. No more inputs\n",
            "\n",
            "################# MB1 Terminated #################  \n",
            "\n"
          ],
          "name": "stdout"
        },
        {
          "output_type": "execute_result",
          "data": {
            "text/plain": [
              "'C'"
            ]
          },
          "metadata": {
            "tags": []
          },
          "execution_count": 17
        }
      ]
    },
    {
      "metadata": {
        "id": "KgXTAw3R1vy5",
        "colab_type": "code",
        "outputId": "e0af13fb-d358-49d6-cc6a-3e6847330eab",
        "colab": {
          "base_uri": "https://localhost:8080/",
          "height": 221
        }
      },
      "cell_type": "code",
      "source": [
        "test1 = MB1(input_string = \".25\")\n",
        "test1.traverse_map()\n"
      ],
      "execution_count": 0,
      "outputs": [
        {
          "output_type": "stream",
          "text": [
            "\n",
            "################# MB1 Initiated #################  \n",
            "\n",
            "Currently in state: A, next input is a . symbol\n",
            "Currently in state: D, next input is a D symbol\n",
            "Currently in state: E, next input is a D symbol\n",
            "Currently in state: E, next input is a # symbol\n",
            "Terminated in state E. No more inputs\n",
            "\n",
            "################# MB1 Terminated #################  \n",
            "\n"
          ],
          "name": "stdout"
        },
        {
          "output_type": "execute_result",
          "data": {
            "text/plain": [
              "'E'"
            ]
          },
          "metadata": {
            "tags": []
          },
          "execution_count": 18
        }
      ]
    },
    {
      "metadata": {
        "id": "m1jYZCdg1x9P",
        "colab_type": "code",
        "outputId": "7b0674cc-919f-472c-e1ef-d59296256dcf",
        "colab": {
          "base_uri": "https://localhost:8080/",
          "height": 256
        }
      },
      "cell_type": "code",
      "source": [
        "test1 = MB1(input_string = \"10.99\")\n",
        "test1.traverse_map()\n"
      ],
      "execution_count": 0,
      "outputs": [
        {
          "output_type": "stream",
          "text": [
            "\n",
            "################# MB1 Initiated #################  \n",
            "\n",
            "Currently in state: A, next input is a D symbol\n",
            "Currently in state: C, next input is a D symbol\n",
            "Currently in state: C, next input is a . symbol\n",
            "Currently in state: D, next input is a D symbol\n",
            "Currently in state: E, next input is a D symbol\n",
            "Currently in state: E, next input is a # symbol\n",
            "Terminated in state E. No more inputs\n",
            "\n",
            "################# MB1 Terminated #################  \n",
            "\n"
          ],
          "name": "stdout"
        },
        {
          "output_type": "execute_result",
          "data": {
            "text/plain": [
              "'E'"
            ]
          },
          "metadata": {
            "tags": []
          },
          "execution_count": 19
        }
      ]
    },
    {
      "metadata": {
        "id": "qjkN1z0F10Dj",
        "colab_type": "code",
        "outputId": "1b9563bf-8cad-47d4-8c5c-3714249e640d",
        "colab": {
          "base_uri": "https://localhost:8080/",
          "height": 256
        }
      },
      "cell_type": "code",
      "source": [
        "\n",
        "test1 = MB1(input_string = \"3.333\")\n",
        "test1.traverse_map()"
      ],
      "execution_count": 0,
      "outputs": [
        {
          "output_type": "stream",
          "text": [
            "\n",
            "################# MB1 Initiated #################  \n",
            "\n",
            "Currently in state: A, next input is a D symbol\n",
            "Currently in state: C, next input is a . symbol\n",
            "Currently in state: D, next input is a D symbol\n",
            "Currently in state: E, next input is a D symbol\n",
            "Currently in state: E, next input is a D symbol\n",
            "Currently in state: E, next input is a # symbol\n",
            "Terminated in state E. No more inputs\n",
            "\n",
            "################# MB1 Terminated #################  \n",
            "\n"
          ],
          "name": "stdout"
        },
        {
          "output_type": "execute_result",
          "data": {
            "text/plain": [
              "'E'"
            ]
          },
          "metadata": {
            "tags": []
          },
          "execution_count": 20
        }
      ]
    },
    {
      "metadata": {
        "id": "eLKzZANc3i_X",
        "colab_type": "code",
        "outputId": "b8b8166c-51dd-4abf-e73b-fc6bc6c0a691",
        "colab": {
          "base_uri": "https://localhost:8080/",
          "height": 221
        }
      },
      "cell_type": "code",
      "source": [
        "test1 = MB1(input_string = \"-82\")\n",
        "test1.traverse_map()"
      ],
      "execution_count": 0,
      "outputs": [
        {
          "output_type": "stream",
          "text": [
            "\n",
            "################# MB1 Initiated #################  \n",
            "\n",
            "Currently in state: A, next input is a - symbol\n",
            "Currently in state: B, next input is a D symbol\n",
            "Currently in state: C, next input is a D symbol\n",
            "Currently in state: C, next input is a # symbol\n",
            "Terminated in state C. No more inputs\n",
            "\n",
            "################# MB1 Terminated #################  \n",
            "\n"
          ],
          "name": "stdout"
        },
        {
          "output_type": "execute_result",
          "data": {
            "text/plain": [
              "'C'"
            ]
          },
          "metadata": {
            "tags": []
          },
          "execution_count": 21
        }
      ]
    },
    {
      "metadata": {
        "id": "56rVWn5vTOBv",
        "colab_type": "text"
      },
      "cell_type": "markdown",
      "source": [
        "\n",
        "#MB2 - VARIABLE PROCESSOR( Processes Comparator Syntax inclusive of Real number tokens above, conditions and variables which are the latin alphabet)"
      ]
    },
    {
      "metadata": {
        "id": "tcvkZngQwG6N",
        "colab_type": "code",
        "colab": {}
      },
      "cell_type": "code",
      "source": [
        "#Create a simulator for MB2\n",
        "class MB2():\n",
        "  \n",
        "  #Initiate state diagrams and instance variables for tokens, conditional expressoons, \n",
        "  #input string and state diagram\n",
        "  def __init__(self, input_string):\n",
        "    self.input_string = input_string\n",
        "    self.current_token = None\n",
        "    self.current_condition = None\n",
        "    self.current_variable = None\n",
        "    self.state_diagram = {\n",
        "        'A':{\n",
        "            '<variable>':'B', 'Ɛ':'A', '<condition>':'E' ,'<token>':'E'\n",
        "        },\n",
        "        'B':{\n",
        "            '<variable>':'E', 'Ɛ':'B', '<condition>':'C' ,'<token>':'E'        \n",
        "        },\n",
        "        'C':{\n",
        "            '<variable>':'E', 'Ɛ':'C', '<condition>':'E' ,'<token>':\"Mb1\"\n",
        "        },\n",
        "        'D':{\n",
        "            '<variable>':'E', 'Ɛ':'D', '<condition>':'E' ,'<token>':'E'\n",
        "        },\n",
        "        'E':{\n",
        "            '<variable>':'E', 'Ɛ':'E', '<condition>':'E' ,'<token>':'E'\n",
        "        },\n",
        "        'Mb1':{\n",
        "            '<variable>':'Mb1', 'Ɛ':'Mb1', '<condition>':'Mb1' ,'<token>':'Mb1' #Let processing be done by Mb1\n",
        "        }\n",
        "    }\n",
        "             \n",
        "      \n",
        "  #Standardize and fill class instance variables    \n",
        "  def processInput(self):\n",
        "    process1 = self.input_string.split(\" \")\n",
        "    process2 = []\n",
        "    for breaks in process1:\n",
        "      #If there are any .s or ints then make a token\n",
        "      process1 = [x for x in list(breaks)]\n",
        "      \n",
        "      #Check for token alphabet\n",
        "      if process1.count('.')>0 or process1.count('0')>0 or  process1.count('1')>0 or  process1.count('2')>0 \\\n",
        "      or  process1.count('3')>0 or  process1.count('4')>0 or  process1.count('5')>0 or  process1.count('6')>0 \\\n",
        "      or  process1.count('7')>0 or  process1.count('8')>0 or  process1.count('9')>0:\n",
        "        process2.append('<token>')\n",
        "        self.current_token = breaks\n",
        "      \n",
        "      #Check for variable alphabet\n",
        "      elif breaks in ['a', 'b', 'c', 'd', 'e', 'f', 'g', 'h', 'i', 'j', 'k', 'l', 'm', 'n',\\\n",
        "                     'o', 'p', 'q', 'r', 's', 't', 'u', 'v', 'w', 'x', 'y', 'z',\\\n",
        "                     'A', 'B', 'C', 'D', 'E', 'F', 'G', 'H', 'I', 'J', 'K', 'L', 'M', 'N',\\\n",
        "                     'O', 'P', 'Q', 'R', 'S', 'T', 'U', 'V', 'W', 'X', 'Y', 'Z']:\n",
        "        self.current_variable = breaks\n",
        "        process2.append('<variable>')\n",
        "        \n",
        "      #Check for symbol alphabet\n",
        "      elif breaks in ['>', '<','>=', '<=','==', '=']:\n",
        "        self.current_condition = breaks\n",
        "        process2.append('<condition>')\n",
        "      elif breaks == \"Ɛ\":\n",
        "        process2.append('Ɛ')\n",
        "      else:\n",
        "        process2.append('<invalid>')\n",
        "        \n",
        "    return process2\n",
        "       \n",
        "    \n",
        "    \n",
        "    \n",
        "  def traverse_map(self):\n",
        "    state = \"A\"\n",
        "    print(\"\\n ################# MB2 Initiated #################  \\n\")\n",
        "    processed_input = self.processInput()\n",
        "    processed_input.append(\"#\")\n",
        "    print(f\"\\nCurrently processing an input of the format: {processed_input[:-1]}\\n\")\n",
        "    \n",
        "    #Add a # for termination\n",
        "    for char in processed_input:\n",
        "      #Verify input format is correct\n",
        "      \n",
        "      #<variable> standardization\n",
        "      if char == '<variable>':\n",
        "        word = self.current_variable\n",
        "      \n",
        "      #condition standardization\n",
        "      elif char == '<condition>':\n",
        "        word = self.current_condition\n",
        "      \n",
        "      #Upsilon standardization\n",
        "      elif char == 'Ɛ':\n",
        "        word = 'Ɛ'\n",
        "      \n",
        "      #<token> standardization\n",
        "      elif char == '<token>':\n",
        "        word = self.current_token\n",
        "      \n",
        "      #<invalid> standardization\n",
        "      elif char == '<invalid>':\n",
        "        if char !='#':\n",
        "          state = 'E'\n",
        "        break\n",
        "        \n",
        "      print(f\"Currently in state: {state}, next input is a {char} symbol ({word})\")\n",
        "      try:\n",
        "        state = self.state_diagram[state][char]\n",
        "      except:\n",
        "        break\n",
        "      if state is \"Mb1\":\n",
        "        #Access the raw token via this\n",
        "        print(\"\\nTransitioning to Mb1 \")\n",
        "        print(f\"Current token {self.current_token}\")\n",
        "        Mb1Instance = MB1(input_string = self.current_token)\n",
        "        mb1_state = Mb1Instance.traverse_map()\n",
        "        print(\"\\nExiting Mb1\\n \")\n",
        "\n",
        "        #If we reached a dead state in Mb1, terminate within Mb1\n",
        "        #If it is an accept state, move to the next state\n",
        "        if mb1_state is \"C\" or mb1_state is \"E\":\n",
        "          state = 'D'\n",
        "          print(\"Input Accepted by MB1\")\n",
        "        else:\n",
        "          state = \"MB1-\"+mb1_state\n",
        "          break\n",
        "          \n",
        "      word = None \n",
        "    print(f\"Terminated in state {state}. No more inputs\")\n",
        "    print(\"\\n################# MB2 Terminated #################  \\n\")\n",
        "    return state\n",
        "  "
      ],
      "execution_count": 0,
      "outputs": []
    },
    {
      "metadata": {
        "id": "R4wgvTJESytS",
        "colab_type": "code",
        "outputId": "87210de1-0669-4a09-e9f9-ecc3dd3373d3",
        "colab": {
          "base_uri": "https://localhost:8080/",
          "height": 699
        }
      },
      "cell_type": "code",
      "source": [
        "#Rule: Separate input symbols with \" \" for splitting and processing.\n",
        "#Token will be saved in a class variable for Mb1 processing.\n",
        "test1 = MB2(input_string = \"B >= Ɛ 546476 Ɛ Ɛ Ɛ\")\n",
        "test1.traverse_map()"
      ],
      "execution_count": 0,
      "outputs": [
        {
          "output_type": "stream",
          "text": [
            "\n",
            " ################# MB2 Initiated #################  \n",
            "\n",
            "\n",
            "Currently processing an input of the format: ['<variable>', '<condition>', 'Ɛ', '<token>', 'Ɛ', 'Ɛ', 'Ɛ']\n",
            "\n",
            "Currently in state: A, next input is a <variable> symbol (B)\n",
            "Currently in state: B, next input is a <condition> symbol (>=)\n",
            "Currently in state: C, next input is a Ɛ symbol (Ɛ)\n",
            "Currently in state: C, next input is a <token> symbol (546476)\n",
            "\n",
            "Transitioning to Mb1 \n",
            "Current token 546476\n",
            "\n",
            "################# MB1 Initiated #################  \n",
            "\n",
            "Currently in state: A, next input is a D symbol\n",
            "Currently in state: C, next input is a D symbol\n",
            "Currently in state: C, next input is a D symbol\n",
            "Currently in state: C, next input is a D symbol\n",
            "Currently in state: C, next input is a D symbol\n",
            "Currently in state: C, next input is a D symbol\n",
            "Currently in state: C, next input is a # symbol\n",
            "Terminated in state C. No more inputs\n",
            "\n",
            "################# MB1 Terminated #################  \n",
            "\n",
            "\n",
            "Exiting Mb1\n",
            " \n",
            "Input Accepted by MB1\n",
            "Currently in state: D, next input is a Ɛ symbol (Ɛ)\n",
            "Currently in state: D, next input is a Ɛ symbol (Ɛ)\n",
            "Currently in state: D, next input is a Ɛ symbol (Ɛ)\n",
            "Currently in state: D, next input is a # symbol (None)\n",
            "Terminated in state D. No more inputs\n",
            "\n",
            "################# MB2 Terminated #################  \n",
            "\n"
          ],
          "name": "stdout"
        },
        {
          "output_type": "execute_result",
          "data": {
            "text/plain": [
              "'D'"
            ]
          },
          "metadata": {
            "tags": []
          },
          "execution_count": 23
        }
      ]
    },
    {
      "metadata": {
        "id": "9bc0zPbdS0Fk",
        "colab_type": "code",
        "outputId": "f915017b-cd7f-43d2-ea4a-c0beb8d2961c",
        "colab": {
          "base_uri": "https://localhost:8080/",
          "height": 648
        }
      },
      "cell_type": "code",
      "source": [
        "#Rule: Separate input symbols with \" \" for splitting and processing.\n",
        "#Token will be saved in a class variable for Mb1 processing.\n",
        "test1 = MB2(input_string = \"B >= Ɛ 5.4.6476 Ɛ Ɛ Ɛ\")\n",
        "test1.traverse_map()"
      ],
      "execution_count": 0,
      "outputs": [
        {
          "output_type": "stream",
          "text": [
            "\n",
            " ################# MB2 Initiated #################  \n",
            "\n",
            "\n",
            "Currently processing an input of the format: ['<variable>', '<condition>', 'Ɛ', '<token>', 'Ɛ', 'Ɛ', 'Ɛ']\n",
            "\n",
            "Currently in state: A, next input is a <variable> symbol (B)\n",
            "Currently in state: B, next input is a <condition> symbol (>=)\n",
            "Currently in state: C, next input is a Ɛ symbol (Ɛ)\n",
            "Currently in state: C, next input is a <token> symbol (5.4.6476)\n",
            "\n",
            "Transitioning to Mb1 \n",
            "Current token 5.4.6476\n",
            "\n",
            "################# MB1 Initiated #################  \n",
            "\n",
            "Currently in state: A, next input is a D symbol\n",
            "Currently in state: C, next input is a . symbol\n",
            "Currently in state: D, next input is a D symbol\n",
            "Currently in state: E, next input is a . symbol\n",
            "Currently in state: F, next input is a D symbol\n",
            "Currently in state: F, next input is a D symbol\n",
            "Currently in state: F, next input is a D symbol\n",
            "Currently in state: F, next input is a D symbol\n",
            "Currently in state: F, next input is a # symbol\n",
            "Terminated in state F. No more inputs\n",
            "\n",
            "################# MB1 Terminated #################  \n",
            "\n",
            "\n",
            "Exiting Mb1\n",
            " \n",
            "Terminated in state MB1-F. No more inputs\n",
            "\n",
            "################# MB2 Terminated #################  \n",
            "\n"
          ],
          "name": "stdout"
        },
        {
          "output_type": "execute_result",
          "data": {
            "text/plain": [
              "'MB1-F'"
            ]
          },
          "metadata": {
            "tags": []
          },
          "execution_count": 24
        }
      ]
    },
    {
      "metadata": {
        "id": "oXZELJvnS0xl",
        "colab_type": "code",
        "outputId": "0ed12e2d-fda6-43ad-da01-b743d10fb4ce",
        "colab": {
          "base_uri": "https://localhost:8080/",
          "height": 563
        }
      },
      "cell_type": "code",
      "source": [
        "#Rule: Separate input symbols with \" \" for splitting and processing.\n",
        "#Token will be saved in a class variable for Mb1 processing.\n",
        "test1 = MB2(input_string = \"B >= Ɛ 546e56 Ɛ Ɛ Ɛ\")\n",
        "test1.traverse_map()"
      ],
      "execution_count": 0,
      "outputs": [
        {
          "output_type": "stream",
          "text": [
            "\n",
            " ################# MB2 Initiated #################  \n",
            "\n",
            "\n",
            "Currently processing an input of the format: ['<variable>', '<condition>', 'Ɛ', '<token>', 'Ɛ', 'Ɛ', 'Ɛ']\n",
            "\n",
            "Currently in state: A, next input is a <variable> symbol (B)\n",
            "Currently in state: B, next input is a <condition> symbol (>=)\n",
            "Currently in state: C, next input is a Ɛ symbol (Ɛ)\n",
            "Currently in state: C, next input is a <token> symbol (546e56)\n",
            "\n",
            "Transitioning to Mb1 \n",
            "Current token 546e56\n",
            "\n",
            "################# MB1 Initiated #################  \n",
            "\n",
            "Currently in state: A, next input is a D symbol\n",
            "Currently in state: C, next input is a D symbol\n",
            "Currently in state: C, next input is a D symbol\n",
            "Currently in state: C, next input is a e symbol\n",
            "Terminated in state F. No more inputs\n",
            "\n",
            "################# MB1 Terminated #################  \n",
            "\n",
            "\n",
            "Exiting Mb1\n",
            " \n",
            "Terminated in state MB1-F. No more inputs\n",
            "\n",
            "################# MB2 Terminated #################  \n",
            "\n"
          ],
          "name": "stdout"
        },
        {
          "output_type": "execute_result",
          "data": {
            "text/plain": [
              "'MB1-F'"
            ]
          },
          "metadata": {
            "tags": []
          },
          "execution_count": 25
        }
      ]
    },
    {
      "metadata": {
        "id": "FAPSENzYTT6T",
        "colab_type": "text"
      },
      "cell_type": "markdown",
      "source": [
        "\n",
        "#MB - GENERAL PROCESSOR( Processes Conditional Operators, Tokens, ifs, thens and encompasses the two Models above)"
      ]
    },
    {
      "metadata": {
        "id": "8iW0SPcX_R5V",
        "colab_type": "code",
        "outputId": "3adfa986-8f91-4bfe-cccd-a8c3c467a919",
        "colab": {
          "base_uri": "https://localhost:8080/",
          "height": 1262
        }
      },
      "cell_type": "code",
      "source": [
        "#Create a simulator for MB1\n",
        "class MB():\n",
        "  \n",
        "  #Initiate state diagrams and instance variables for tokens, conditional expressoons, \n",
        "  #input string and state diagram\n",
        "  def __init__(self, input_string):\n",
        "    self.input_string = input_string\n",
        "    self.current_conditional_expression = None\n",
        "    self.current_token = None\n",
        "    self.state_diagram = doc = {\n",
        "        #Note: Variable =Token is expression\n",
        "        'A':{\n",
        "            'Ɛ':'A','if':'B','then':'I','<variable>':'I','=':'I','<conditional_expression>':'I','<token>':'I','endif':'I'\n",
        "        },\n",
        "        'B':{\n",
        "            'Ɛ':'B','if':'I','then':'I','<variable>':'I','=':'I','<conditional_expression>':'Mb2','<token>':'I','endif':'I'\n",
        "        },\n",
        "        'C':{\n",
        "            'Ɛ':'C','if':'I','then':'D','<variable>':'I','=':'I','<conditional_expression>':'I','<token>':'I','endif':'I'\n",
        "        },\n",
        "        'D':{\n",
        "            'Ɛ':'D','if':'I','then':'I','<variable>':'E','=':'I','<conditional_expression>':'I','<token>':'I','endif':'I'\n",
        "        },\n",
        "        'E':{\n",
        "            'Ɛ':'E','if':'I','then':'I','<variable>':'I','=':'F','<conditional_expression>':'I','<token>':'I','endif':'I'\n",
        "        },\n",
        "        'F':{\n",
        "            'Ɛ':'F','if':'I','then':'I','<variable>':'I','=':'I','<conditional_expression>':'I','<token>':'Mb1','endif':'I'\n",
        "        },\n",
        "        'G':{\n",
        "            'Ɛ':'G','if':'I','then':'I','<variable>':'I','=':'I','<conditional_expression>':'I','<token>':'I','endif':'H'\n",
        "        },\n",
        "        'H':{\n",
        "            'Ɛ':'H','if':'I','then':'I','<variable>':'I','=':'I','<conditional_expression>':'I','<token>':'I','endif':'I'\n",
        "        },\n",
        "        'I':{\n",
        "            'Ɛ':'I','if':'I','then':'I','<variable>':'I','=':'I','<conditional_expression>':'I','<token>':'I','endif':'I'\n",
        "        },\n",
        "        'Mb1':{\n",
        "            'Ɛ':'Mb1','if':'Mb1','then':'Mb1','<variable>':'Mb1','=':'Mb1','<conditional_expression>':'Mb1','<token>':'Mb1','endif':'Mb1'\n",
        "        },\n",
        "        'Mb2':{\n",
        "            'Ɛ':'Mb2','if':'Mb2','then':'Mb2','<variable>':'Mb2','=':'Mb2','<conditional_expression>':'Mb2','<token>':'Mb2','endif':'Mb2'\n",
        "        }\n",
        "    }\n",
        "    \n",
        "    \n",
        "    \n",
        "    \n",
        "  def processDs(self):\n",
        "    process1 = [x for x in self.input_string.split('*')]\n",
        "    process2 = []\n",
        "    for breaks in process1:\n",
        "      #Verify input format is correct\n",
        "      # If there are any .s or ints then make a token\n",
        "      process1 = [x for x in list(breaks)]\n",
        "      # Check for token alphabet\n",
        "      \n",
        "      #If the token symbols are dound, check too if there is a comparative symbol.\n",
        "      #If found, it is a conditional expression. Otherwsie it is a token.\n",
        "      if process1.count('.') > 0 or process1.count('0') > 0 or process1.count('1') > 0 or process1.count('2') > 0 \\\n",
        "              or process1.count('3') > 0 or process1.count('4') > 0 or process1.count('5') > 0 or process1.count('6') > 0 \\\n",
        "              or process1.count('7') > 0 or process1.count('8') > 0 or process1.count('9') > 0:\n",
        "        \n",
        "          if (process1.count('=') > 0 or process1.count('==') > 0 or process1.count('>=') > 0 or process1.count('<=') > 0 \\\n",
        "          or process1.count('>') > 0 or process1.count('<') > 0) and len(process1)>1:\n",
        "            process2.append('<conditional_expression>')\n",
        "            self.current_conditional_expression = breaks\n",
        "          else:\n",
        "            process2.append('<token>')\n",
        "            self.current_token = breaks\n",
        "          \n",
        "      # Check for variable alphabet\n",
        "      elif breaks in ['a', 'b', 'c', 'd', 'e', 'f', 'g', 'h', 'i', 'j', 'k', 'l', 'm', 'n', \\\n",
        "                      'o', 'p', 'q', 'r', 's', 't', 'u', 'v', 'w', 'x', 'y', 'z', \\\n",
        "                      'A', 'B', 'C', 'D', 'E', 'F', 'G', 'H', 'I', 'J', 'K', 'L', 'M', 'N', \\\n",
        "                      'O', 'P', 'Q', 'R', 'S', 'T', 'U', 'V', 'W', 'X', 'Y', 'Z']:\n",
        "          self.current_variable = breaks\n",
        "          process2.append('<variable>')\n",
        "\n",
        "      # Check for symbol alphabet\n",
        "      \n",
        "      #Upsilon standardization\n",
        "      elif breaks == \"Ɛ\":\n",
        "          process2.append('Ɛ')\n",
        "          \n",
        "      #Assignment standardization\n",
        "      elif breaks == \"=\":\n",
        "          process2.append('=')\n",
        "      \n",
        "      #If standardization\n",
        "      elif breaks == \"if\":\n",
        "          process2.append('if')\n",
        "      \n",
        "      #then standardization\n",
        "      elif breaks == \"then\":\n",
        "          process2.append('then')\n",
        "      \n",
        "      #endif standardization\n",
        "      elif breaks == \"endif\":\n",
        "          process2.append('endif')\n",
        "      \n",
        "      #Anything else is invalid\n",
        "      else:\n",
        "          process2.append('<invalid>')\n",
        "          \n",
        "    return process2\n",
        "  \n",
        "  \n",
        "  \n",
        "  def traverse_map(self):\n",
        "    state = \"A\"\n",
        "    processed_input = self.processDs() \n",
        "    \n",
        "    #Add a # for termination\n",
        "    processed_input.append('#')\n",
        "    print(\"\\n################# MB3 Initialized on input #################  \\n\")\n",
        "    print(processed_input[:-1])\n",
        "    print('\\n')\n",
        "    \n",
        "    \n",
        "    for char in processed_input:\n",
        "      print(f\"Currently in state: {state}, next input is a {char} symbol\")\n",
        "      try:\n",
        "        state = self.state_diagram[state][char]\n",
        "        \n",
        "        #MB1 Check\n",
        "        if state is 'Mb2':\n",
        "          #Access the raw token via this\n",
        "          print(\"\\nTransitioning to Mb2 \")\n",
        "          \n",
        "          #Instance of MB1 with the raw conditional expression saved as an instance variable.\n",
        "          Mb2Instance = MB2(input_string = self.current_conditional_expression)\n",
        "          mb2_state = Mb2Instance.traverse_map()\n",
        "          print(\"\\nExiting Mb2\\n\")\n",
        "          #Check is we terminated at an accept state from mb2\n",
        "          if mb2_state == 'D':\n",
        "            print(\"Input Accepted by MB2\")\n",
        "            state = 'C'\n",
        "          else:\n",
        "            #Terminate if MB2 did not accept\n",
        "            state = \"MB2-\"+mb1_state\n",
        "            break\n",
        "            \n",
        "        #MB2 Check with the raw token saved as an instance variable.\n",
        "        elif state is \"Mb1\":\n",
        "          #Access the raw token via this\n",
        "          print(\"\\nTransitioning to Mb1 \")\n",
        "          print(f\"Current token {self.current_token}\")\n",
        "          \n",
        "          #Instance of Mb2\n",
        "          Mb1Instance = MB1(input_string = self.current_token)\n",
        "          mb1_state = Mb1Instance.traverse_map()\n",
        "          print(\"\\nExiting Mb1\\n \")\n",
        "\n",
        "          #If we reached a dead state in Mb1, terminate within Mb1\n",
        "          #If it is an accept state, move to the next state\n",
        "          if mb1_state is \"C\" or mb1_state is \"E\":\n",
        "            state = 'G'\n",
        "            print(\"Input Accepted by MB1\")\n",
        "          else:\n",
        "            state = \"MB1-\"+mb1_state\n",
        "            break\n",
        "\n",
        "      except:\n",
        "        if char !='#':\n",
        "          state = 'I'\n",
        "        break\n",
        "    print(f\"Terminated in state {state}. No more inputs\")\n",
        "    print(\"\\n################# MB3 Terminated #################  \\n\")\n",
        "    return state\n",
        "  \n",
        "  \n",
        "  \n",
        "  \n",
        "#For splitting purposes, use a star to separate the symbols(A space is used to processed the split for codnitionals)\n",
        "#Ensure you split your expression using a star too. The DFA  is modelled to check for this\n",
        "test1 = MB(input_string = \"if*A < 10*then*B*=*1*endif*Ɛ\")\n",
        "test1.traverse_map()"
      ],
      "execution_count": 0,
      "outputs": [
        {
          "output_type": "stream",
          "text": [
            "\n",
            "################# MB3 Initialized on input #################  \n",
            "\n",
            "['if', '<conditional_expression>', 'then', '<variable>', '=', '<token>', 'endif', 'Ɛ']\n",
            "\n",
            "\n",
            "Currently in state: A, next input is a if symbol\n",
            "Currently in state: B, next input is a <conditional_expression> symbol\n",
            "\n",
            "Transitioning to Mb2 \n",
            "\n",
            " ################# MB2 Initiated #################  \n",
            "\n",
            "\n",
            "Currently processing an input of the format: ['<variable>', '<condition>', '<token>']\n",
            "\n",
            "Currently in state: A, next input is a <variable> symbol (A)\n",
            "Currently in state: B, next input is a <condition> symbol (<)\n",
            "Currently in state: C, next input is a <token> symbol (10)\n",
            "\n",
            "Transitioning to Mb1 \n",
            "Current token 10\n",
            "\n",
            "################# MB1 Initiated #################  \n",
            "\n",
            "Currently in state: A, next input is a D symbol\n",
            "Currently in state: C, next input is a D symbol\n",
            "Currently in state: C, next input is a # symbol\n",
            "Terminated in state C. No more inputs\n",
            "\n",
            "################# MB1 Terminated #################  \n",
            "\n",
            "\n",
            "Exiting Mb1\n",
            " \n",
            "Input Accepted by MB1\n",
            "Currently in state: D, next input is a # symbol (None)\n",
            "Terminated in state D. No more inputs\n",
            "\n",
            "################# MB2 Terminated #################  \n",
            "\n",
            "\n",
            "Exiting Mb2\n",
            "\n",
            "Input Accepted by MB2\n",
            "Currently in state: C, next input is a then symbol\n",
            "Currently in state: D, next input is a <variable> symbol\n",
            "Currently in state: E, next input is a = symbol\n",
            "Currently in state: F, next input is a <token> symbol\n",
            "\n",
            "Transitioning to Mb1 \n",
            "Current token 1\n",
            "\n",
            "################# MB1 Initiated #################  \n",
            "\n",
            "Currently in state: A, next input is a D symbol\n",
            "Currently in state: C, next input is a # symbol\n",
            "Terminated in state C. No more inputs\n",
            "\n",
            "################# MB1 Terminated #################  \n",
            "\n",
            "\n",
            "Exiting Mb1\n",
            " \n",
            "Input Accepted by MB1\n",
            "Currently in state: G, next input is a endif symbol\n",
            "Currently in state: H, next input is a Ɛ symbol\n",
            "Currently in state: H, next input is a # symbol\n",
            "Terminated in state H. No more inputs\n",
            "\n",
            "################# MB3 Terminated #################  \n",
            "\n"
          ],
          "name": "stdout"
        },
        {
          "output_type": "execute_result",
          "data": {
            "text/plain": [
              "'H'"
            ]
          },
          "metadata": {
            "tags": []
          },
          "execution_count": 26
        }
      ]
    },
    {
      "metadata": {
        "id": "P0J-lbvvARqz",
        "colab_type": "code",
        "outputId": "40516147-fc26-4b8c-c569-972f74519f42",
        "colab": {
          "base_uri": "https://localhost:8080/",
          "height": 1280
        }
      },
      "cell_type": "code",
      "source": [
        "#For splitting purposes, use a star to separate the symbols(A space is used to processed the split for codnitionals)\n",
        "#Ensure you split your expression using a star too. The DFA  is modelled to check for this\n",
        "test1 = MB(input_string = \"if*A > 0*then*B*=*10.5*endif\")\n",
        "test1.traverse_map()"
      ],
      "execution_count": 0,
      "outputs": [
        {
          "output_type": "stream",
          "text": [
            "\n",
            "################# MB3 Initialized on input #################  \n",
            "\n",
            "['if', '<conditional_expression>', 'then', '<variable>', '=', '<token>', 'endif']\n",
            "\n",
            "\n",
            "Currently in state: A, next input is a if symbol\n",
            "Currently in state: B, next input is a <conditional_expression> symbol\n",
            "\n",
            "Transitioning to Mb2 \n",
            "\n",
            " ################# MB2 Initiated #################  \n",
            "\n",
            "\n",
            "Currently processing an input of the format: ['<variable>', '<condition>', '<token>']\n",
            "\n",
            "Currently in state: A, next input is a <variable> symbol (A)\n",
            "Currently in state: B, next input is a <condition> symbol (>)\n",
            "Currently in state: C, next input is a <token> symbol (0)\n",
            "\n",
            "Transitioning to Mb1 \n",
            "Current token 0\n",
            "\n",
            "################# MB1 Initiated #################  \n",
            "\n",
            "Currently in state: A, next input is a D symbol\n",
            "Currently in state: C, next input is a # symbol\n",
            "Terminated in state C. No more inputs\n",
            "\n",
            "################# MB1 Terminated #################  \n",
            "\n",
            "\n",
            "Exiting Mb1\n",
            " \n",
            "Input Accepted by MB1\n",
            "Currently in state: D, next input is a # symbol (None)\n",
            "Terminated in state D. No more inputs\n",
            "\n",
            "################# MB2 Terminated #################  \n",
            "\n",
            "\n",
            "Exiting Mb2\n",
            "\n",
            "Input Accepted by MB2\n",
            "Currently in state: C, next input is a then symbol\n",
            "Currently in state: D, next input is a <variable> symbol\n",
            "Currently in state: E, next input is a = symbol\n",
            "Currently in state: F, next input is a <token> symbol\n",
            "\n",
            "Transitioning to Mb1 \n",
            "Current token 10.5\n",
            "\n",
            "################# MB1 Initiated #################  \n",
            "\n",
            "Currently in state: A, next input is a D symbol\n",
            "Currently in state: C, next input is a D symbol\n",
            "Currently in state: C, next input is a . symbol\n",
            "Currently in state: D, next input is a D symbol\n",
            "Currently in state: E, next input is a # symbol\n",
            "Terminated in state E. No more inputs\n",
            "\n",
            "################# MB1 Terminated #################  \n",
            "\n",
            "\n",
            "Exiting Mb1\n",
            " \n",
            "Input Accepted by MB1\n",
            "Currently in state: G, next input is a endif symbol\n",
            "Currently in state: H, next input is a # symbol\n",
            "Terminated in state H. No more inputs\n",
            "\n",
            "################# MB3 Terminated #################  \n",
            "\n"
          ],
          "name": "stdout"
        },
        {
          "output_type": "execute_result",
          "data": {
            "text/plain": [
              "'H'"
            ]
          },
          "metadata": {
            "tags": []
          },
          "execution_count": 27
        }
      ]
    },
    {
      "metadata": {
        "id": "R86KwG9JSYij",
        "colab_type": "code",
        "outputId": "78eee6e8-605e-4483-f391-95b5faafea55",
        "colab": {
          "base_uri": "https://localhost:8080/",
          "height": 1331
        }
      },
      "cell_type": "code",
      "source": [
        "#For splitting purposes, use a star to separate the symbols(A space is used to processed the split for codnitionals)\n",
        "#Ensure you split your expression using a star too. The DFA  is modelled to check for this\n",
        "test1 = MB(input_string = \"Ɛ*if*A > 0*then*B*=*10.5*endif*endif*if\")\n",
        "test1.traverse_map()"
      ],
      "execution_count": 0,
      "outputs": [
        {
          "output_type": "stream",
          "text": [
            "\n",
            "################# MB3 Initialized on input #################  \n",
            "\n",
            "['Ɛ', 'if', '<conditional_expression>', 'then', '<variable>', '=', '<token>', 'endif', 'endif', 'if']\n",
            "\n",
            "\n",
            "Currently in state: A, next input is a Ɛ symbol\n",
            "Currently in state: A, next input is a if symbol\n",
            "Currently in state: B, next input is a <conditional_expression> symbol\n",
            "\n",
            "Transitioning to Mb2 \n",
            "\n",
            " ################# MB2 Initiated #################  \n",
            "\n",
            "\n",
            "Currently processing an input of the format: ['<variable>', '<condition>', '<token>']\n",
            "\n",
            "Currently in state: A, next input is a <variable> symbol (A)\n",
            "Currently in state: B, next input is a <condition> symbol (>)\n",
            "Currently in state: C, next input is a <token> symbol (0)\n",
            "\n",
            "Transitioning to Mb1 \n",
            "Current token 0\n",
            "\n",
            "################# MB1 Initiated #################  \n",
            "\n",
            "Currently in state: A, next input is a D symbol\n",
            "Currently in state: C, next input is a # symbol\n",
            "Terminated in state C. No more inputs\n",
            "\n",
            "################# MB1 Terminated #################  \n",
            "\n",
            "\n",
            "Exiting Mb1\n",
            " \n",
            "Input Accepted by MB1\n",
            "Currently in state: D, next input is a # symbol (None)\n",
            "Terminated in state D. No more inputs\n",
            "\n",
            "################# MB2 Terminated #################  \n",
            "\n",
            "\n",
            "Exiting Mb2\n",
            "\n",
            "Input Accepted by MB2\n",
            "Currently in state: C, next input is a then symbol\n",
            "Currently in state: D, next input is a <variable> symbol\n",
            "Currently in state: E, next input is a = symbol\n",
            "Currently in state: F, next input is a <token> symbol\n",
            "\n",
            "Transitioning to Mb1 \n",
            "Current token 10.5\n",
            "\n",
            "################# MB1 Initiated #################  \n",
            "\n",
            "Currently in state: A, next input is a D symbol\n",
            "Currently in state: C, next input is a D symbol\n",
            "Currently in state: C, next input is a . symbol\n",
            "Currently in state: D, next input is a D symbol\n",
            "Currently in state: E, next input is a # symbol\n",
            "Terminated in state E. No more inputs\n",
            "\n",
            "################# MB1 Terminated #################  \n",
            "\n",
            "\n",
            "Exiting Mb1\n",
            " \n",
            "Input Accepted by MB1\n",
            "Currently in state: G, next input is a endif symbol\n",
            "Currently in state: H, next input is a endif symbol\n",
            "Currently in state: I, next input is a if symbol\n",
            "Currently in state: I, next input is a # symbol\n",
            "Terminated in state I. No more inputs\n",
            "\n",
            "################# MB3 Terminated #################  \n",
            "\n"
          ],
          "name": "stdout"
        },
        {
          "output_type": "execute_result",
          "data": {
            "text/plain": [
              "'I'"
            ]
          },
          "metadata": {
            "tags": []
          },
          "execution_count": 28
        }
      ]
    },
    {
      "metadata": {
        "id": "6fVXNni_AjJV",
        "colab_type": "code",
        "outputId": "06cb14d6-0caf-43b1-d1db-da3ed0eb6b12",
        "colab": {
          "base_uri": "https://localhost:8080/",
          "height": 1228
        }
      },
      "cell_type": "code",
      "source": [
        "#For splitting purposes, use a star to separate the symbols(A space is used to processed the split for codnitionals)\n",
        "#Ensure you split your expression using a star too. The DFA  is modelled to check for this\n",
        "test1 = MB(input_string = \"if*A > 0*then*B*=*10.5e2*endif\")\n",
        "test1.traverse_map()"
      ],
      "execution_count": 0,
      "outputs": [
        {
          "output_type": "stream",
          "text": [
            "\n",
            "################# MB3 Initialized on input #################  \n",
            "\n",
            "['if', '<conditional_expression>', 'then', '<variable>', '=', '<token>', 'endif']\n",
            "\n",
            "\n",
            "Currently in state: A, next input is a if symbol\n",
            "Currently in state: B, next input is a <conditional_expression> symbol\n",
            "\n",
            "Transitioning to Mb2 \n",
            "\n",
            " ################# MB2 Initiated #################  \n",
            "\n",
            "\n",
            "Currently processing an input of the format: ['<variable>', '<condition>', '<token>']\n",
            "\n",
            "Currently in state: A, next input is a <variable> symbol (A)\n",
            "Currently in state: B, next input is a <condition> symbol (>)\n",
            "Currently in state: C, next input is a <token> symbol (0)\n",
            "\n",
            "Transitioning to Mb1 \n",
            "Current token 0\n",
            "\n",
            "################# MB1 Initiated #################  \n",
            "\n",
            "Currently in state: A, next input is a D symbol\n",
            "Currently in state: C, next input is a # symbol\n",
            "Terminated in state C. No more inputs\n",
            "\n",
            "################# MB1 Terminated #################  \n",
            "\n",
            "\n",
            "Exiting Mb1\n",
            " \n",
            "Input Accepted by MB1\n",
            "Currently in state: D, next input is a # symbol (None)\n",
            "Terminated in state D. No more inputs\n",
            "\n",
            "################# MB2 Terminated #################  \n",
            "\n",
            "\n",
            "Exiting Mb2\n",
            "\n",
            "Input Accepted by MB2\n",
            "Currently in state: C, next input is a then symbol\n",
            "Currently in state: D, next input is a <variable> symbol\n",
            "Currently in state: E, next input is a = symbol\n",
            "Currently in state: F, next input is a <token> symbol\n",
            "\n",
            "Transitioning to Mb1 \n",
            "Current token 10.5e2\n",
            "\n",
            "################# MB1 Initiated #################  \n",
            "\n",
            "Currently in state: A, next input is a D symbol\n",
            "Currently in state: C, next input is a D symbol\n",
            "Currently in state: C, next input is a . symbol\n",
            "Currently in state: D, next input is a D symbol\n",
            "Currently in state: E, next input is a e symbol\n",
            "Terminated in state F. No more inputs\n",
            "\n",
            "################# MB1 Terminated #################  \n",
            "\n",
            "\n",
            "Exiting Mb1\n",
            " \n",
            "Terminated in state MB1-F. No more inputs\n",
            "\n",
            "################# MB3 Terminated #################  \n",
            "\n"
          ],
          "name": "stdout"
        },
        {
          "output_type": "execute_result",
          "data": {
            "text/plain": [
              "'MB1-F'"
            ]
          },
          "metadata": {
            "tags": []
          },
          "execution_count": 29
        }
      ]
    }
  ]
}