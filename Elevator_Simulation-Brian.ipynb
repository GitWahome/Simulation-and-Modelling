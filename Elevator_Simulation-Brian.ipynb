{
  "nbformat": 4,
  "nbformat_minor": 0,
  "metadata": {
    "colab": {
      "name": "Elevator Simulation.ipynb",
      "version": "0.3.2",
      "provenance": []
    },
    "kernelspec": {
      "name": "python3",
      "display_name": "Python 3"
    }
  },
  "cells": [
    {
      "metadata": {
        "id": "4wzvJRc6D1SF",
        "colab_type": "text"
      },
      "cell_type": "markdown",
      "source": [
        "** Imports. **"
      ]
    },
    {
      "metadata": {
        "id": "xohpDz0UD2CK",
        "colab_type": "code",
        "colab": {}
      },
      "cell_type": "code",
      "source": [
        "import numpy as np\n",
        "from operator import attrgetter\n",
        "from scipy import stats\n",
        "import random\n",
        "import string\n",
        "\n",
        "import matplotlib.pyplot as plt"
      ],
      "execution_count": 0,
      "outputs": []
    },
    {
      "metadata": {
        "id": "uCx3tccPDkFX",
        "colab_type": "text"
      },
      "cell_type": "markdown",
      "source": [
        "** SIMULATOR SPECIFICATIONS. **\n",
        "\n",
        "Based on Group Work."
      ]
    },
    {
      "metadata": {
        "id": "rJJexDGbDyEa",
        "colab_type": "text"
      },
      "cell_type": "markdown",
      "source": [
        " Implement three Python classes — Building, Elevator, Passenger **DONE**\n",
        " \n",
        " The building has 1 elevator and a user­defined number of floors and passengers. **DONE**\n",
        " \n",
        " The elevator has a user­defined capacity — that is the maximum number of passengers\n",
        "that can be in the elevator simultaneously **DONE**\n",
        "\n",
        "Each passenger starts on a random floor in the building and wants to go to a different\n",
        "random floor. **DONE** * (Implemented as random choices within the strategies, excluding the current floor.)*\n",
        "\n",
        "Each passenger uses the elevator only once, and the simulation ends once all passengers\n",
        "have reached their destination floors.* **DONE**  *(Termination of pickup  when limits are met)* The simulations dont stop till occupation is empty. Also it keeps track of users. Once a passenger is out, they are detatched from the system.  The entries from the building floor ccould be new or old passengers but when they come in, they are regarded as new passengers hence new instances.\n",
        "\n",
        "In your main code block, create the building and run the simulation by repeatedly updating\n",
        "the state of the passengers, elevator, and building in a loop. Check whether all passengers\n",
        "have arrived at their destinations to determine when to stop the loop. **DONE** *(Implemented as loops that drive the efficiency evaluations. Passenger states are used to keep track of whether they arive or not.)*\n",
        "\n",
        "Display the state of your simulation at regular intervals so you can monitor whether\n",
        "everything is working as you expect. Are the right number of passengers getting on and off\n",
        "the elevator? Does your simulation end or does it get stuck in an infinite loop for some\n",
        "reason? How many passengers have arrived at their destination? Use the answers to these\n",
        "questions to monitor the correctness of your simulation.**DONE**\n",
        "*(For faster simulation and to avoid clutter, flags were included for the strategies. )*\n",
        "\n",
        "\n",
        "\n",
        "\n"
      ]
    },
    {
      "metadata": {
        "id": "cdOfADxnDDby",
        "colab_type": "code",
        "colab": {}
      },
      "cell_type": "code",
      "source": [
        "# Create a building with a specified number of floors\n",
        "class Building():\n",
        "    def __init__(self, num_floors):\n",
        "        self.num_floors = num_floors\n",
        "        \n",
        "\n",
        "# Create a passenger with a unique location and destination, at_destination is a dummy variable\n",
        "class Passenger():\n",
        "    def __init__(self, location, destination, at_destination):\n",
        "        self.location = location\n",
        "        self.destination = destination\n",
        "        self.at_destination = at_destination\n",
        "        \n",
        "        \n",
        "# Create an elevator with locations and a specified capacity, occupants is a list of passengers on the elevator\n",
        "class Elevator():\n",
        "    \n",
        "    def __init__(self, location, capacity):\n",
        "        self.location = location\n",
        "        self.capacity = capacity\n",
        "        self.occupants = []\n",
        "        \n",
        "    # Move the elevator up one floor\n",
        "    def move_up(self):\n",
        "        self.location += 1\n",
        "        \n",
        "    # Move the elevator down one floor\n",
        "    def move_down(self):\n",
        "        self.location -= 1\n",
        "        \n",
        "    # Move the elevator to a given floor\n",
        "    def to_floor(self, go_to):\n",
        "        self.location = go_to\n",
        "        \n",
        "    # Unload the elevator\n",
        "    def unload(self):\n",
        "        # for each person in the elevator whose destination is the same as the\n",
        "        # elevator's location, remove them from the elevator and mark their location as \"arrived\"\n",
        "        for person in self.occupants:\n",
        "            if person.destination == self.location:\n",
        "                person.location =  'arrived'\n",
        "                self.occupants.remove(person)\n",
        "    \n",
        "    # Load the elevator\n",
        "    def load(self, people):\n",
        "        # At a certain floor, if there is still space in the elevator,\n",
        "        # load as many people who are waiting on that floor as possible to the elevator\n",
        "        if len(self.occupants) < self.capacity:\n",
        "            queued = [person for person in people if person.location==self.location]\n",
        "            for person in queued[:(self.capacity-len(self.occupants))]:\n",
        "                person.location = 'on elevator'\n",
        "                self.occupants.append(person)\n",
        "            return\n",
        "        # If the elevator is full, don't do anything\n",
        "        elif len(self.occupants) == self.capacity:\n",
        "            return\n",
        "        else:\n",
        "            print('overfull')"
      ],
      "execution_count": 0,
      "outputs": []
    },
    {
      "metadata": {
        "id": "1eQ6AquvOLgy",
        "colab_type": "text"
      },
      "cell_type": "markdown",
      "source": [
        "**GROUP WORK**\n",
        "\n",
        "**Strategy 1**\n",
        "\n",
        "Strategy 1 (from assignment description):\n",
        "The elevator starts from the ground floor and moves all the way to the top floor, stopping at every floor in between. When the elevator reaches the top floor, it changes direction and moves all the way back down to the ground floor, again stopping at every floor in between. At every floor where the elevator stops any passengers who want to get off leave and any passengers who want to get on enter, as long as there is space in the elevator. If the elevator is full, passengers on that floor have to wait. Upon reaching the ground floor, the elevator repeats the cycle of moving all the way up and all the way down the building."
      ]
    },
    {
      "metadata": {
        "id": "O_tOOw8fOFyi",
        "colab_type": "code",
        "colab": {
          "base_uri": "https://localhost:8080/",
          "height": 480
        },
        "outputId": "33c8d1bd-e338-491b-87c1-5a8e05db1c10"
      },
      "cell_type": "code",
      "source": [
        "#Implemented by Braden\n",
        "def strategy_1(start_floor, elev_cap, num_floors, num_people, print_status=False):\n",
        "    # Create an Elevator object and a Building object\n",
        "    elevator = Elevator(location=start_floor, capacity=elev_cap)\n",
        "    building = Building(num_floors)\n",
        "    \n",
        "    # Create a list of all the people in the building\n",
        "    people = []\n",
        "    \n",
        "    # The number of stops that the elevator makes indicates efficiency\n",
        "    num_of_stops=0\n",
        "    \n",
        "    # Create people objects with random initial floors and destinations\n",
        "    for i in range(num_people):\n",
        "        # Generate a random integer between 1 and the number of floors to get\n",
        "        # an initial floor for each person\n",
        "        init_floor = np.random.randint(1, num_floors+1)\n",
        "        # Generate a random integer between 1 and the number of floors that\n",
        "        # is different from the initial floor generated above to get\n",
        "        # a destination floor for each person\n",
        "        f = [x for x in range(1, num_floors+1) if x != init_floor]\n",
        "        destination = np.random.choice(f)\n",
        "        \n",
        "        # Create a Passenger object and append it to the list of people\n",
        "        person = Passenger(location=init_floor, destination=destination, at_destination=0)\n",
        "        people.append(person)\n",
        "            \n",
        "    # A variable to keep track of how many people have arrived\n",
        "    arrived = 0\n",
        "    \n",
        "    \n",
        "    # A while loop that runs until everybody has arrived at their destination\n",
        "    while arrived < len(people):\n",
        "        \n",
        "        # The elevator runs from bottom to top, stop at each floors, unload/load\n",
        "        for i in range(num_floors - 1):\n",
        "            if print_status and arrived%4==1:\n",
        "              print('Current Locations: ', list(map(attrgetter('location'), people)))\n",
        "          \n",
        "            elevator.unload()\n",
        "            elevator.load(people)\n",
        "            elevator.move_up()\n",
        "            arrived = np.sum([person.location=='arrived' for person in people])\n",
        "            # if everyone has arrived, the loop terminates\n",
        "            if arrived == len(people):\n",
        "                break\n",
        "            # for each floor that the elevator stops at, add one to the counter\n",
        "            num_of_stops+=1  \n",
        "            \n",
        "        # Check if everyone has arrived    \n",
        "        if arrived == len(people):\n",
        "            break\n",
        "        \n",
        "        \n",
        "        # The elevator runs from top to bottom, stop at each floors, unload/load\n",
        "        for i in range(num_floors - 1):\n",
        "            if print_status and arrived%4==1:\n",
        "              print('Current Locations: ', list(map(attrgetter('location'), people)))\n",
        "            \n",
        "            elevator.unload()\n",
        "            elevator.load(people)\n",
        "            elevator.move_down()\n",
        "            arrived = np.sum([person.location=='arrived' for person in people])\n",
        "            # if everyone has arrived, the loop terminates\n",
        "            if arrived == len(people):\n",
        "                break\n",
        "            num_of_stops+=1  \n",
        "            \n",
        "    \n",
        "    # Return the number of stops. In this case, it equals the number of floors that\n",
        "    # the elevator has travelled\n",
        "    return num_of_stops\n",
        "  \n",
        "strat_1 = strategy_1(start_floor=1, elev_cap=15, num_floors=12, num_people=100, print_status=True)\n",
        "  \n",
        "  # The average number of stops after running 100 simulations with\n",
        "# specified parameters for the first strategy\n",
        "stops_1 = []\n",
        "for i in range(100):\n",
        "    stops_1.append(strategy_1(start_floor=1, elev_cap=15, num_floors=12, num_people=400))\n",
        "print('The average number of stops: %f' %np.mean(stops_1))"
      ],
      "execution_count": 52,
      "outputs": [
        {
          "output_type": "stream",
          "text": [
            "Current Locations:  [6, 11, 6, 10, 11, 8, 4, 10, 'on elevator', 4, 'on elevator', 7, 3, 4, 4, 10, 4, 4, 3, 4, 10, 6, 5, 'on elevator', 4, 3, 12, 8, 3, 'on elevator', 11, 8, 5, 7, 11, 9, 6, 8, 6, 3, 'on elevator', 'on elevator', 12, 9, 12, 10, 10, 7, 6, 12, 12, 8, 11, 3, 5, 'arrived', 6, 12, 'on elevator', 6, 9, 8, 9, 8, 8, 10, 6, 12, 8, 'on elevator', 3, 9, 5, 5, 10, 12, 5, 6, 8, 12, 9, 3, 7, 5, 10, 4, 3, 10, 6, 6, 5, 3, 'on elevator', 6, 3, 9, 8, 'on elevator', 9, 6]\n",
            "Current Locations:  ['on elevator', 11, 6, 10, 11, 8, 'on elevator', 10, 'on elevator', 4, 'on elevator', 7, 'on elevator', 4, 4, 10, 4, 4, 'on elevator', 4, 10, 6, 'on elevator', 'on elevator', 4, 'on elevator', 12, 8, 'on elevator', 'arrived', 11, 8, 5, 7, 11, 9, 6, 8, 6, 'on elevator', 'on elevator', 'arrived', 12, 9, 12, 10, 10, 7, 6, 12, 12, 8, 11, 'on elevator', 5, 'arrived', 6, 12, 'on elevator', 6, 9, 8, 9, 8, 8, 10, 6, 12, 8, 'arrived', 3, 9, 5, 5, 10, 12, 5, 6, 8, 12, 9, 3, 7, 5, 10, 4, 3, 10, 6, 6, 5, 3, 'on elevator', 6, 3, 9, 8, 'arrived', 9, 6]\n",
            "Current Locations:  ['on elevator', 11, 6, 10, 11, 8, 'on elevator', 10, 'on elevator', 4, 'on elevator', 7, 'on elevator', 4, 4, 10, 4, 4, 'on elevator', 4, 10, 6, 'on elevator', 'on elevator', 4, 'on elevator', 12, 8, 'on elevator', 'arrived', 11, 8, 5, 7, 11, 9, 6, 8, 6, 'on elevator', 'on elevator', 'arrived', 12, 9, 12, 10, 10, 7, 6, 12, 12, 8, 11, 'on elevator', 5, 'arrived', 6, 12, 'on elevator', 6, 9, 8, 9, 8, 8, 10, 6, 12, 8, 'arrived', 3, 9, 5, 5, 10, 12, 5, 6, 8, 12, 9, 3, 7, 5, 10, 4, 3, 10, 6, 6, 5, 3, 'on elevator', 6, 3, 9, 8, 'arrived', 9, 6]\n",
            "Current Locations:  ['arrived', 'on elevator', 6, 'arrived', 'on elevator', 'on elevator', 'on elevator', 'on elevator', 'arrived', 4, 'on elevator', 7, 'arrived', 4, 4, 'on elevator', 4, 4, 'arrived', 4, 10, 6, 'arrived', 'arrived', 4, 'arrived', 'arrived', 'on elevator', 'arrived', 'arrived', 'arrived', 8, 5, 7, 'arrived', 'on elevator', 6, 8, 6, 'arrived', 'arrived', 'arrived', 'on elevator', 'on elevator', 'on elevator', 10, 10, 7, 6, 12, 12, 8, 11, 'arrived', 5, 'arrived', 6, 12, 'on elevator', 6, 'on elevator', 8, 'on elevator', 8, 8, 10, 6, 12, 8, 'arrived', 3, 9, 5, 5, 10, 12, 5, 6, 8, 12, 9, 3, 7, 5, 10, 4, 3, 10, 6, 6, 5, 3, 'arrived', 6, 3, 9, 8, 'arrived', 9, 6]\n",
            "Current Locations:  ['arrived', 'arrived', 6, 'arrived', 'on elevator', 'on elevator', 'on elevator', 'on elevator', 'arrived', 4, 'arrived', 'on elevator', 'arrived', 4, 4, 'arrived', 4, 4, 'arrived', 4, 10, 6, 'arrived', 'arrived', 4, 'arrived', 'arrived', 'on elevator', 'arrived', 'arrived', 'arrived', 8, 5, 7, 'arrived', 'arrived', 6, 8, 6, 'arrived', 'arrived', 'arrived', 'on elevator', 'on elevator', 'on elevator', 10, 10, 7, 6, 12, 12, 8, 11, 'arrived', 5, 'arrived', 6, 12, 'on elevator', 6, 'on elevator', 8, 'on elevator', 8, 8, 10, 6, 12, 8, 'arrived', 3, 'on elevator', 5, 5, 10, 12, 5, 6, 8, 12, 'on elevator', 3, 7, 5, 10, 4, 3, 10, 6, 6, 5, 3, 'arrived', 6, 3, 'on elevator', 8, 'arrived', 9, 6]\n",
            "Current Locations:  ['arrived', 'arrived', 'on elevator', 'arrived', 'arrived', 'arrived', 'arrived', 'on elevator', 'arrived', 'on elevator', 'arrived', 'arrived', 'arrived', 'arrived', 4, 'arrived', 4, 4, 'arrived', 4, 10, 'on elevator', 'arrived', 'arrived', 4, 'arrived', 'arrived', 'on elevator', 'arrived', 'arrived', 'arrived', 8, 'arrived', 7, 'arrived', 'arrived', 6, 8, 6, 'arrived', 'arrived', 'arrived', 'arrived', 'arrived', 'on elevator', 10, 10, 7, 6, 12, 12, 8, 11, 'arrived', 5, 'arrived', 6, 12, 'arrived', 6, 'arrived', 8, 'arrived', 8, 8, 10, 6, 12, 8, 'arrived', 'on elevator', 'on elevator', 5, 5, 10, 12, 5, 6, 8, 12, 'arrived', 'on elevator', 7, 5, 10, 4, 3, 10, 6, 6, 5, 3, 'arrived', 6, 3, 'on elevator', 8, 'arrived', 9, 6]\n",
            "Current Locations:  ['arrived', 'arrived', 'on elevator', 'arrived', 'arrived', 'arrived', 'arrived', 'on elevator', 'arrived', 'on elevator', 'arrived', 'arrived', 'arrived', 'arrived', 4, 'arrived', 4, 4, 'arrived', 4, 10, 'on elevator', 'arrived', 'arrived', 4, 'arrived', 'arrived', 'on elevator', 'arrived', 'arrived', 'arrived', 8, 'arrived', 7, 'arrived', 'arrived', 6, 8, 6, 'arrived', 'arrived', 'arrived', 'arrived', 'arrived', 'on elevator', 10, 10, 7, 6, 12, 12, 8, 11, 'arrived', 5, 'arrived', 6, 12, 'arrived', 6, 'arrived', 8, 'arrived', 8, 8, 10, 6, 12, 8, 'arrived', 'on elevator', 'on elevator', 5, 5, 10, 12, 5, 6, 8, 12, 'arrived', 'on elevator', 7, 5, 10, 4, 3, 10, 6, 6, 5, 3, 'arrived', 6, 3, 'on elevator', 8, 'arrived', 9, 6]\n",
            "Current Locations:  ['arrived', 'arrived', 'on elevator', 'arrived', 'arrived', 'arrived', 'arrived', 'on elevator', 'arrived', 'on elevator', 'arrived', 'arrived', 'arrived', 'arrived', 4, 'arrived', 4, 4, 'arrived', 4, 10, 'on elevator', 'arrived', 'arrived', 4, 'arrived', 'arrived', 'on elevator', 'arrived', 'arrived', 'arrived', 8, 'arrived', 7, 'arrived', 'arrived', 6, 8, 6, 'arrived', 'arrived', 'arrived', 'arrived', 'arrived', 'on elevator', 10, 10, 7, 6, 12, 12, 8, 11, 'arrived', 5, 'arrived', 6, 12, 'arrived', 6, 'arrived', 8, 'arrived', 8, 8, 10, 6, 12, 8, 'arrived', 'on elevator', 'on elevator', 5, 5, 10, 12, 5, 6, 8, 12, 'arrived', 'on elevator', 7, 5, 10, 4, 'on elevator', 10, 6, 6, 5, 'on elevator', 'arrived', 6, 'on elevator', 'on elevator', 8, 'arrived', 9, 6]\n",
            "Current Locations:  ['arrived', 'arrived', 'on elevator', 'arrived', 'arrived', 'arrived', 'arrived', 'on elevator', 'arrived', 'on elevator', 'arrived', 'arrived', 'arrived', 'arrived', 'on elevator', 'arrived', 'on elevator', 'arrived', 'arrived', 4, 10, 'on elevator', 'arrived', 'arrived', 4, 'arrived', 'arrived', 'on elevator', 'arrived', 'arrived', 'arrived', 8, 'arrived', 7, 'arrived', 'arrived', 'on elevator', 8, 'on elevator', 'arrived', 'arrived', 'arrived', 'arrived', 'arrived', 'arrived', 10, 10, 7, 6, 12, 12, 8, 11, 'arrived', 'on elevator', 'arrived', 6, 12, 'arrived', 6, 'arrived', 8, 'arrived', 8, 8, 10, 6, 12, 8, 'arrived', 'arrived', 'on elevator', 5, 5, 10, 12, 5, 6, 8, 12, 'arrived', 'on elevator', 7, 5, 10, 4, 'arrived', 10, 6, 6, 5, 'on elevator', 'arrived', 6, 'on elevator', 'on elevator', 8, 'arrived', 9, 6]\n",
            "Current Locations:  ['arrived', 'arrived', 'on elevator', 'arrived', 'arrived', 'arrived', 'arrived', 'on elevator', 'arrived', 'on elevator', 'arrived', 'arrived', 'arrived', 'arrived', 'on elevator', 'arrived', 'on elevator', 'arrived', 'arrived', 4, 10, 'on elevator', 'arrived', 'arrived', 4, 'arrived', 'arrived', 'on elevator', 'arrived', 'arrived', 'arrived', 8, 'arrived', 7, 'arrived', 'arrived', 'on elevator', 8, 'on elevator', 'arrived', 'arrived', 'arrived', 'arrived', 'arrived', 'arrived', 10, 10, 7, 6, 12, 12, 8, 11, 'arrived', 'on elevator', 'arrived', 6, 12, 'arrived', 6, 'arrived', 8, 'arrived', 8, 8, 10, 6, 12, 8, 'arrived', 'arrived', 'on elevator', 5, 5, 10, 12, 5, 6, 8, 12, 'arrived', 'on elevator', 7, 5, 10, 4, 'arrived', 10, 6, 6, 5, 'on elevator', 'arrived', 6, 'on elevator', 'on elevator', 8, 'arrived', 9, 6]\n",
            "Current Locations:  ['arrived', 'arrived', 'arrived', 'arrived', 'arrived', 'arrived', 'arrived', 'arrived', 'arrived', 'on elevator', 'arrived', 'arrived', 'arrived', 'arrived', 'on elevator', 'arrived', 'arrived', 'arrived', 'arrived', 4, 'arrived', 'arrived', 'arrived', 'arrived', 4, 'arrived', 'arrived', 'on elevator', 'arrived', 'arrived', 'arrived', 'arrived', 'arrived', 'on elevator', 'arrived', 'arrived', 'arrived', 'arrived', 'on elevator', 'arrived', 'arrived', 'arrived', 'arrived', 'arrived', 'arrived', 'arrived', 'on elevator', 7, 'on elevator', 'on elevator', 'arrived', 'on elevator', 'arrived', 'arrived', 'arrived', 'arrived', 6, 'on elevator', 'arrived', 6, 'arrived', 'on elevator', 'arrived', 'on elevator', 8, 10, 6, 'on elevator', 8, 'arrived', 'arrived', 'on elevator', 5, 5, 10, 12, 5, 6, 8, 12, 'arrived', 'arrived', 7, 5, 10, 4, 'arrived', 10, 6, 6, 5, 'on elevator', 'arrived', 6, 'arrived', 'arrived', 8, 'arrived', 'arrived', 6]\n",
            "Current Locations:  ['arrived', 'arrived', 'arrived', 'arrived', 'arrived', 'arrived', 'arrived', 'arrived', 'arrived', 'on elevator', 'arrived', 'arrived', 'arrived', 'arrived', 'on elevator', 'arrived', 'arrived', 'arrived', 'arrived', 'arrived', 'arrived', 'arrived', 'arrived', 'arrived', 'on elevator', 'arrived', 'arrived', 'on elevator', 'arrived', 'arrived', 'arrived', 'arrived', 'arrived', 'on elevator', 'arrived', 'arrived', 'arrived', 'arrived', 'arrived', 'arrived', 'arrived', 'arrived', 'arrived', 'arrived', 'arrived', 'arrived', 'arrived', 7, 'arrived', 'arrived', 'arrived', 'on elevator', 'arrived', 'arrived', 'arrived', 'arrived', 6, 'arrived', 'arrived', 6, 'arrived', 'on elevator', 'arrived', 'arrived', 8, 10, 6, 'on elevator', 8, 'arrived', 'arrived', 'on elevator', 'on elevator', 5, 10, 12, 5, 6, 8, 12, 'arrived', 'arrived', 7, 5, 10, 4, 'arrived', 10, 6, 6, 5, 'arrived', 'arrived', 6, 'arrived', 'arrived', 8, 'arrived', 'arrived', 6]\n",
            "Current Locations:  ['arrived', 'arrived', 'arrived', 'arrived', 'arrived', 'arrived', 'arrived', 'arrived', 'arrived', 'on elevator', 'arrived', 'arrived', 'arrived', 'arrived', 'arrived', 'arrived', 'arrived', 'arrived', 'arrived', 'arrived', 'arrived', 'arrived', 'arrived', 'arrived', 'arrived', 'arrived', 'arrived', 'arrived', 'arrived', 'arrived', 'arrived', 'arrived', 'arrived', 'on elevator', 'arrived', 'arrived', 'arrived', 'arrived', 'arrived', 'arrived', 'arrived', 'arrived', 'arrived', 'arrived', 'arrived', 'arrived', 'arrived', 'on elevator', 'arrived', 'arrived', 'arrived', 'on elevator', 'arrived', 'arrived', 'arrived', 'arrived', 'on elevator', 'arrived', 'arrived', 'on elevator', 'arrived', 'on elevator', 'arrived', 'arrived', 8, 10, 'arrived', 'on elevator', 8, 'arrived', 'arrived', 'on elevator', 'on elevator', 'on elevator', 10, 12, 'on elevator', 6, 8, 12, 'arrived', 'arrived', 7, 'on elevator', 10, 'on elevator', 'arrived', 10, 6, 6, 'on elevator', 'arrived', 'arrived', 6, 'arrived', 'arrived', 8, 'arrived', 'arrived', 6]\n",
            "Current Locations:  ['arrived', 'arrived', 'arrived', 'arrived', 'arrived', 'arrived', 'arrived', 'arrived', 'arrived', 'on elevator', 'arrived', 'arrived', 'arrived', 'arrived', 'arrived', 'arrived', 'arrived', 'arrived', 'arrived', 'arrived', 'arrived', 'arrived', 'arrived', 'arrived', 'arrived', 'arrived', 'arrived', 'arrived', 'arrived', 'arrived', 'arrived', 'arrived', 'arrived', 'arrived', 'arrived', 'arrived', 'arrived', 'arrived', 'arrived', 'arrived', 'arrived', 'arrived', 'arrived', 'arrived', 'arrived', 'arrived', 'arrived', 'arrived', 'arrived', 'arrived', 'arrived', 'on elevator', 'arrived', 'arrived', 'arrived', 'arrived', 'on elevator', 'arrived', 'arrived', 'on elevator', 'arrived', 'arrived', 'arrived', 'arrived', 'on elevator', 10, 'arrived', 'on elevator', 'on elevator', 'arrived', 'arrived', 'on elevator', 'on elevator', 'on elevator', 10, 12, 'on elevator', 6, 8, 12, 'arrived', 'arrived', 7, 'arrived', 10, 'on elevator', 'arrived', 10, 6, 6, 'on elevator', 'arrived', 'arrived', 6, 'arrived', 'arrived', 8, 'arrived', 'arrived', 6]\n",
            "Current Locations:  ['arrived', 'arrived', 'arrived', 'arrived', 'arrived', 'arrived', 'arrived', 'arrived', 'arrived', 'on elevator', 'arrived', 'arrived', 'arrived', 'arrived', 'arrived', 'arrived', 'arrived', 'arrived', 'arrived', 'arrived', 'arrived', 'arrived', 'arrived', 'arrived', 'arrived', 'arrived', 'arrived', 'arrived', 'arrived', 'arrived', 'arrived', 'arrived', 'arrived', 'arrived', 'arrived', 'arrived', 'arrived', 'arrived', 'arrived', 'arrived', 'arrived', 'arrived', 'arrived', 'arrived', 'arrived', 'arrived', 'arrived', 'arrived', 'arrived', 'arrived', 'arrived', 'on elevator', 'arrived', 'arrived', 'arrived', 'arrived', 'on elevator', 'arrived', 'arrived', 'on elevator', 'arrived', 'arrived', 'arrived', 'arrived', 'on elevator', 'on elevator', 'arrived', 'on elevator', 'on elevator', 'arrived', 'arrived', 'on elevator', 'on elevator', 'on elevator', 'on elevator', 12, 'on elevator', 6, 8, 12, 'arrived', 'arrived', 7, 'arrived', 10, 'on elevator', 'arrived', 10, 6, 6, 'on elevator', 'arrived', 'arrived', 6, 'arrived', 'arrived', 8, 'arrived', 'arrived', 6]\n",
            "Current Locations:  ['arrived', 'arrived', 'arrived', 'arrived', 'arrived', 'arrived', 'arrived', 'arrived', 'arrived', 'on elevator', 'arrived', 'arrived', 'arrived', 'arrived', 'arrived', 'arrived', 'arrived', 'arrived', 'arrived', 'arrived', 'arrived', 'arrived', 'arrived', 'arrived', 'arrived', 'arrived', 'arrived', 'arrived', 'arrived', 'arrived', 'arrived', 'arrived', 'arrived', 'arrived', 'arrived', 'arrived', 'arrived', 'arrived', 'arrived', 'arrived', 'arrived', 'arrived', 'arrived', 'arrived', 'arrived', 'arrived', 'arrived', 'arrived', 'arrived', 'arrived', 'arrived', 'arrived', 'arrived', 'arrived', 'arrived', 'arrived', 'on elevator', 'arrived', 'arrived', 'on elevator', 'arrived', 'arrived', 'arrived', 'arrived', 'on elevator', 'on elevator', 'arrived', 'on elevator', 'on elevator', 'arrived', 'arrived', 'arrived', 'arrived', 'arrived', 'arrived', 'on elevator', 'on elevator', 6, 8, 'arrived', 'arrived', 'arrived', 7, 'arrived', 'on elevator', 'on elevator', 'arrived', 'arrived', 6, 6, 'arrived', 'arrived', 'arrived', 6, 'arrived', 'arrived', 8, 'arrived', 'arrived', 6]\n",
            "Current Locations:  ['arrived', 'arrived', 'arrived', 'arrived', 'arrived', 'arrived', 'arrived', 'arrived', 'arrived', 'on elevator', 'arrived', 'arrived', 'arrived', 'arrived', 'arrived', 'arrived', 'arrived', 'arrived', 'arrived', 'arrived', 'arrived', 'arrived', 'arrived', 'arrived', 'arrived', 'arrived', 'arrived', 'arrived', 'arrived', 'arrived', 'arrived', 'arrived', 'arrived', 'arrived', 'arrived', 'arrived', 'arrived', 'arrived', 'arrived', 'arrived', 'arrived', 'arrived', 'arrived', 'arrived', 'arrived', 'arrived', 'arrived', 'arrived', 'arrived', 'arrived', 'arrived', 'arrived', 'arrived', 'arrived', 'arrived', 'arrived', 'on elevator', 'arrived', 'arrived', 'on elevator', 'arrived', 'arrived', 'arrived', 'arrived', 'on elevator', 'on elevator', 'arrived', 'on elevator', 'on elevator', 'arrived', 'arrived', 'arrived', 'arrived', 'arrived', 'arrived', 'on elevator', 'on elevator', 6, 'on elevator', 'arrived', 'arrived', 'arrived', 7, 'arrived', 'on elevator', 'on elevator', 'arrived', 'arrived', 6, 6, 'arrived', 'arrived', 'arrived', 6, 'arrived', 'arrived', 'on elevator', 'arrived', 'arrived', 6]\n",
            "Current Locations:  ['arrived', 'arrived', 'arrived', 'arrived', 'arrived', 'arrived', 'arrived', 'arrived', 'arrived', 'on elevator', 'arrived', 'arrived', 'arrived', 'arrived', 'arrived', 'arrived', 'arrived', 'arrived', 'arrived', 'arrived', 'arrived', 'arrived', 'arrived', 'arrived', 'arrived', 'arrived', 'arrived', 'arrived', 'arrived', 'arrived', 'arrived', 'arrived', 'arrived', 'arrived', 'arrived', 'arrived', 'arrived', 'arrived', 'arrived', 'arrived', 'arrived', 'arrived', 'arrived', 'arrived', 'arrived', 'arrived', 'arrived', 'arrived', 'arrived', 'arrived', 'arrived', 'arrived', 'arrived', 'arrived', 'arrived', 'arrived', 'arrived', 'arrived', 'arrived', 'on elevator', 'arrived', 'arrived', 'arrived', 'arrived', 'arrived', 'on elevator', 'arrived', 'on elevator', 'on elevator', 'arrived', 'arrived', 'arrived', 'arrived', 'arrived', 'arrived', 'on elevator', 'arrived', 'arrived', 'on elevator', 'arrived', 'arrived', 'arrived', 'on elevator', 'arrived', 'on elevator', 'on elevator', 'arrived', 'arrived', 'on elevator', 6, 'arrived', 'arrived', 'arrived', 6, 'arrived', 'arrived', 'on elevator', 'arrived', 'arrived', 6]\n",
            "Current Locations:  ['arrived', 'arrived', 'arrived', 'arrived', 'arrived', 'arrived', 'arrived', 'arrived', 'arrived', 'on elevator', 'arrived', 'arrived', 'arrived', 'arrived', 'arrived', 'arrived', 'arrived', 'arrived', 'arrived', 'arrived', 'arrived', 'arrived', 'arrived', 'arrived', 'arrived', 'arrived', 'arrived', 'arrived', 'arrived', 'arrived', 'arrived', 'arrived', 'arrived', 'arrived', 'arrived', 'arrived', 'arrived', 'arrived', 'arrived', 'arrived', 'arrived', 'arrived', 'arrived', 'arrived', 'arrived', 'arrived', 'arrived', 'arrived', 'arrived', 'arrived', 'arrived', 'arrived', 'arrived', 'arrived', 'arrived', 'arrived', 'arrived', 'arrived', 'arrived', 'on elevator', 'arrived', 'arrived', 'arrived', 'arrived', 'arrived', 'on elevator', 'arrived', 'on elevator', 'on elevator', 'arrived', 'arrived', 'arrived', 'arrived', 'arrived', 'arrived', 'on elevator', 'arrived', 'arrived', 'on elevator', 'arrived', 'arrived', 'arrived', 'on elevator', 'arrived', 'on elevator', 'on elevator', 'arrived', 'arrived', 'on elevator', 6, 'arrived', 'arrived', 'arrived', 6, 'arrived', 'arrived', 'on elevator', 'arrived', 'arrived', 6]\n",
            "Current Locations:  ['arrived', 'arrived', 'arrived', 'arrived', 'arrived', 'arrived', 'arrived', 'arrived', 'arrived', 'on elevator', 'arrived', 'arrived', 'arrived', 'arrived', 'arrived', 'arrived', 'arrived', 'arrived', 'arrived', 'arrived', 'arrived', 'arrived', 'arrived', 'arrived', 'arrived', 'arrived', 'arrived', 'arrived', 'arrived', 'arrived', 'arrived', 'arrived', 'arrived', 'arrived', 'arrived', 'arrived', 'arrived', 'arrived', 'arrived', 'arrived', 'arrived', 'arrived', 'arrived', 'arrived', 'arrived', 'arrived', 'arrived', 'arrived', 'arrived', 'arrived', 'arrived', 'arrived', 'arrived', 'arrived', 'arrived', 'arrived', 'arrived', 'arrived', 'arrived', 'on elevator', 'arrived', 'arrived', 'arrived', 'arrived', 'arrived', 'arrived', 'arrived', 'arrived', 'on elevator', 'arrived', 'arrived', 'arrived', 'arrived', 'arrived', 'arrived', 'on elevator', 'arrived', 'arrived', 'arrived', 'arrived', 'arrived', 'arrived', 'on elevator', 'arrived', 'on elevator', 'on elevator', 'arrived', 'arrived', 'arrived', 6, 'arrived', 'arrived', 'arrived', 6, 'arrived', 'arrived', 'on elevator', 'arrived', 'arrived', 6]\n",
            "Current Locations:  ['arrived', 'arrived', 'arrived', 'arrived', 'arrived', 'arrived', 'arrived', 'arrived', 'arrived', 'on elevator', 'arrived', 'arrived', 'arrived', 'arrived', 'arrived', 'arrived', 'arrived', 'arrived', 'arrived', 'arrived', 'arrived', 'arrived', 'arrived', 'arrived', 'arrived', 'arrived', 'arrived', 'arrived', 'arrived', 'arrived', 'arrived', 'arrived', 'arrived', 'arrived', 'arrived', 'arrived', 'arrived', 'arrived', 'arrived', 'arrived', 'arrived', 'arrived', 'arrived', 'arrived', 'arrived', 'arrived', 'arrived', 'arrived', 'arrived', 'arrived', 'arrived', 'arrived', 'arrived', 'arrived', 'arrived', 'arrived', 'arrived', 'arrived', 'arrived', 'on elevator', 'arrived', 'arrived', 'arrived', 'arrived', 'arrived', 'arrived', 'arrived', 'arrived', 'on elevator', 'arrived', 'arrived', 'arrived', 'arrived', 'arrived', 'arrived', 'on elevator', 'arrived', 'arrived', 'arrived', 'arrived', 'arrived', 'arrived', 'on elevator', 'arrived', 'on elevator', 'on elevator', 'arrived', 'arrived', 'arrived', 6, 'arrived', 'arrived', 'arrived', 6, 'arrived', 'arrived', 'on elevator', 'arrived', 'arrived', 6]\n",
            "Current Locations:  ['arrived', 'arrived', 'arrived', 'arrived', 'arrived', 'arrived', 'arrived', 'arrived', 'arrived', 'on elevator', 'arrived', 'arrived', 'arrived', 'arrived', 'arrived', 'arrived', 'arrived', 'arrived', 'arrived', 'arrived', 'arrived', 'arrived', 'arrived', 'arrived', 'arrived', 'arrived', 'arrived', 'arrived', 'arrived', 'arrived', 'arrived', 'arrived', 'arrived', 'arrived', 'arrived', 'arrived', 'arrived', 'arrived', 'arrived', 'arrived', 'arrived', 'arrived', 'arrived', 'arrived', 'arrived', 'arrived', 'arrived', 'arrived', 'arrived', 'arrived', 'arrived', 'arrived', 'arrived', 'arrived', 'arrived', 'arrived', 'arrived', 'arrived', 'arrived', 'on elevator', 'arrived', 'arrived', 'arrived', 'arrived', 'arrived', 'arrived', 'arrived', 'arrived', 'on elevator', 'arrived', 'arrived', 'arrived', 'arrived', 'arrived', 'arrived', 'on elevator', 'arrived', 'arrived', 'arrived', 'arrived', 'arrived', 'arrived', 'on elevator', 'arrived', 'on elevator', 'on elevator', 'arrived', 'arrived', 'arrived', 6, 'arrived', 'arrived', 'arrived', 6, 'arrived', 'arrived', 'on elevator', 'arrived', 'arrived', 6]\n",
            "Current Locations:  ['arrived', 'arrived', 'arrived', 'arrived', 'arrived', 'arrived', 'arrived', 'arrived', 'arrived', 'on elevator', 'arrived', 'arrived', 'arrived', 'arrived', 'arrived', 'arrived', 'arrived', 'arrived', 'arrived', 'arrived', 'arrived', 'arrived', 'arrived', 'arrived', 'arrived', 'arrived', 'arrived', 'arrived', 'arrived', 'arrived', 'arrived', 'arrived', 'arrived', 'arrived', 'arrived', 'arrived', 'arrived', 'arrived', 'arrived', 'arrived', 'arrived', 'arrived', 'arrived', 'arrived', 'arrived', 'arrived', 'arrived', 'arrived', 'arrived', 'arrived', 'arrived', 'arrived', 'arrived', 'arrived', 'arrived', 'arrived', 'arrived', 'arrived', 'arrived', 'on elevator', 'arrived', 'arrived', 'arrived', 'arrived', 'arrived', 'arrived', 'arrived', 'arrived', 'on elevator', 'arrived', 'arrived', 'arrived', 'arrived', 'arrived', 'arrived', 'on elevator', 'arrived', 'arrived', 'arrived', 'arrived', 'arrived', 'arrived', 'on elevator', 'arrived', 'on elevator', 'on elevator', 'arrived', 'arrived', 'arrived', 6, 'arrived', 'arrived', 'arrived', 6, 'arrived', 'arrived', 'on elevator', 'arrived', 'arrived', 6]\n",
            "Current Locations:  ['arrived', 'arrived', 'arrived', 'arrived', 'arrived', 'arrived', 'arrived', 'arrived', 'arrived', 'on elevator', 'arrived', 'arrived', 'arrived', 'arrived', 'arrived', 'arrived', 'arrived', 'arrived', 'arrived', 'arrived', 'arrived', 'arrived', 'arrived', 'arrived', 'arrived', 'arrived', 'arrived', 'arrived', 'arrived', 'arrived', 'arrived', 'arrived', 'arrived', 'arrived', 'arrived', 'arrived', 'arrived', 'arrived', 'arrived', 'arrived', 'arrived', 'arrived', 'arrived', 'arrived', 'arrived', 'arrived', 'arrived', 'arrived', 'arrived', 'arrived', 'arrived', 'arrived', 'arrived', 'arrived', 'arrived', 'arrived', 'arrived', 'arrived', 'arrived', 'arrived', 'arrived', 'arrived', 'arrived', 'arrived', 'arrived', 'arrived', 'arrived', 'arrived', 'arrived', 'arrived', 'arrived', 'arrived', 'arrived', 'arrived', 'arrived', 'on elevator', 'arrived', 'arrived', 'arrived', 'arrived', 'arrived', 'arrived', 'arrived', 'arrived', 'on elevator', 'on elevator', 'arrived', 'arrived', 'arrived', 'on elevator', 'arrived', 'arrived', 'arrived', 'on elevator', 'arrived', 'arrived', 'arrived', 'arrived', 'arrived', 'on elevator']\n",
            "Current Locations:  ['arrived', 'arrived', 'arrived', 'arrived', 'arrived', 'arrived', 'arrived', 'arrived', 'arrived', 'arrived', 'arrived', 'arrived', 'arrived', 'arrived', 'arrived', 'arrived', 'arrived', 'arrived', 'arrived', 'arrived', 'arrived', 'arrived', 'arrived', 'arrived', 'arrived', 'arrived', 'arrived', 'arrived', 'arrived', 'arrived', 'arrived', 'arrived', 'arrived', 'arrived', 'arrived', 'arrived', 'arrived', 'arrived', 'arrived', 'arrived', 'arrived', 'arrived', 'arrived', 'arrived', 'arrived', 'arrived', 'arrived', 'arrived', 'arrived', 'arrived', 'arrived', 'arrived', 'arrived', 'arrived', 'arrived', 'arrived', 'arrived', 'arrived', 'arrived', 'arrived', 'arrived', 'arrived', 'arrived', 'arrived', 'arrived', 'arrived', 'arrived', 'arrived', 'arrived', 'arrived', 'arrived', 'arrived', 'arrived', 'arrived', 'arrived', 'on elevator', 'arrived', 'arrived', 'arrived', 'arrived', 'arrived', 'arrived', 'arrived', 'arrived', 'arrived', 'on elevator', 'arrived', 'arrived', 'arrived', 'arrived', 'arrived', 'arrived', 'arrived', 'arrived', 'arrived', 'arrived', 'arrived', 'arrived', 'arrived', 'on elevator']\n",
            "The average number of stops: 294.560000\n"
          ],
          "name": "stdout"
        }
      ]
    },
    {
      "metadata": {
        "id": "axXMEHmNOrip",
        "colab_type": "text"
      },
      "cell_type": "markdown",
      "source": [
        "**Personal Report**\n",
        "\n",
        "This was a relatively straight forward and simple strategy. The elevator simply made Its way up and down till all passengers reached their destination.\n",
        "The efficiency metric we worked with was the number of stops the elevator made to ferry all passengers. This strategy was less efficient, and to deliver 400  people, it made an average of 299 stops.\n",
        "\n",
        "I will do a comparison of this based on the stated metric in the final plot.\n",
        "\n"
      ]
    },
    {
      "metadata": {
        "id": "Zz96wjYXiY9-",
        "colab_type": "text"
      },
      "cell_type": "markdown",
      "source": [
        "**Strategy 2**\n",
        "\n",
        "The elevator begins on the ground floor and accepts all passengers waiting there or as many as it can carry. If there are no passengers on the ground floor, it moves to the first floor and does the same thing, etc. After encountering a floor with passengers, the elevator drops off the passengers in the order that they enter the elevator. At each floor the elevator drops passengers off, it accepts as many new passengers as it can hold and they are placed at the end of the dropoff queue. If the elevator is ever empty (drops off all passengers and no more have gotten on), it move up/down to the next floor with waiting passengers.\n",
        "\n",
        "An optimmization has been implemented to ensure that regardless of entry order, a passenger once at their destination can leave the elevator. It prioritizes the entry order to minimize the wait time.\n",
        "\n",
        "**Personal Report**\n",
        "\n",
        "Note: To keep things simple,  I did not implement some functionalities due to the m being very rare cases and knowing how overkill I can get, I cleaned up for them. Such cases include:\n",
        "\n",
        "When the elevator fails to collect a passenger after delivering the first bunch. Ideally it would go up till it finds a passenger, then when it gets us it goes down again. The capability to implemeent this has been illustrated in strategy 1 but this almost never happens. Due to the random nature of our passenger initiator and spawner, we are almost sure we will get a passenger in the upward motion when starting given out test capacity.  It thus sufficed to do this. \n",
        "In the cases where the elevator terminates after picking the first passengers, and they are all delivered before more are picked, this we clean up later. \n",
        "\n",
        "This happened about once in 150 times so I so no need to include it given we needed to only simulate 400times. I cleaned up for this to make the calculation consistent and avoid adding complexities to our code.\n",
        "\n",
        "A third case, the system picks up passengers till it detect it has picked equal or more than num_people. The reason it is equal and more than is because we randomly pick passengers and the last pickup can slightly overshoot our initial set num_people. I can easily terminate the floor counter but the priority was to deliver all passengers. I however, stopped counting the travelled floors once we delivered 400 passengers to keep the calculations consistent.\n",
        "\n",
        "The code is thoroughly commented so all sections and what they do should be clear."
      ]
    },
    {
      "metadata": {
        "id": "BERqn7cYiX_K",
        "colab_type": "code",
        "colab": {
          "base_uri": "https://localhost:8080/",
          "height": 819
        },
        "outputId": "e9d4f2fe-3750-44d0-f45e-df21f398d616"
      },
      "cell_type": "code",
      "source": [
        "# Brian Strategy 2\n",
        "\n",
        "# Create a new class for the 2nd strategy that inherits Building and Elavator classes\n",
        "class Strategy2(Building, Elevator):\n",
        "  def __init__(self, location = 0 , capacity=15, num_floors = 12, num_people = 400, log = True, optimal = False): #Predefined the arguments since we standardized them. \n",
        "    Building.__init__(self, num_floors = num_floors) #Inherited the Building Class and initialized it\n",
        "    Elevator.__init__(self, location = location, capacity=capacity) #Inherited the elvator class and initiated it\n",
        "    self.num_people = num_people #Initiated a class variable, num people\n",
        "    self.log = log\n",
        "    self.optimal = optimal\n",
        "    \n",
        "  \"\"\"\n",
        "  Is the engine behind spawning. Spawn is used to initiate the passengers but initiate is the one that creates them\n",
        "  At any floor where delivery is happening, initiate is called to generate a passenger list. \n",
        "  It generates a passenger list with a max number of the empty capacity\n",
        "  \"\"\"\n",
        "  def initiate(self,start_pass, occupancy, start, floor):#Define initiate method that generates passengers\n",
        "    if start:#If start meaning when turning on the elvator, it is empty so maximum entry is full capacity. Randomized either way\n",
        "      num_passengers = random.randint(0, self.capacity)\n",
        "    else:#Otherwise, the elevator has been at work\n",
        "      num_passengers = random.randint(0, occupancy)# Maximum entry capacity is equal to the occupancy,\n",
        "    passengers = {}#Initiate the passenger list token\n",
        "    #Assign destinations\n",
        "    for pas in range(0, num_passengers):#Create as many passengers as the num_passengers randomly generated\n",
        "      passengers[start_pass + pas] = {\"Passenger_id\":''.join([random.choice(string.ascii_letters + string.digits) for n in range(8)]),#Unique passenger id created\n",
        "                         \"Passenger\": Passenger(location = floor, destination = random.choice([i for i in range(0,floor)]+[i for i in range(floor+1,self.num_floors)]),\n",
        "                                                at_destination = False)#Each passenger is instance of the passenger class. Random destinations selected\n",
        "                        }\n",
        "    return passengers\n",
        "  \n",
        "  \n",
        "  \"\"\"\n",
        "  This is used to initiate the system. It starts at floor 0, if there are no passengers, it goes to the next floor\n",
        "  and calls initiate again. It does so until it finds a passenger, after which it breaks and returns the passenger list\n",
        "  \"\"\"\n",
        "  def spawn_passengers(self):\n",
        "    for flo in range(self.num_floors):\n",
        "      pass_bunch = self.initiate(start = True, start_pass = 0, occupancy = self.capacity,  floor = self.location)#At the start, the starting passengers are 0, we spawn with full capacity and spawn as false\n",
        "      if self.log:\n",
        "        print(f\"Picked up {len(pass_bunch)} passengers on floor {flo}, empty space = {self.capacity - len(pass_bunch)}\")\n",
        "      #if the first floor is empty, it moves to the second and does the same:\n",
        "      if len(pass_bunch) == 0:#We move up floors if the starting bunch is 0. we move up. \n",
        "        #I was going to implement the logic such that we keep going up and when up we start going down if no passenger is found but the probability of that happening is so low at out capacity\n",
        "        #The code section would be almost vestigial at that point. There will always be someone to be picked up in the up movement and they would initiate the motion.\n",
        "        self.move_up()\n",
        "      else:\n",
        "        break\n",
        "    if self.log:\n",
        "      print(\"\\n\")\n",
        "\n",
        "    return pass_bunch\n",
        "  \n",
        "  \n",
        "  \"\"\"\n",
        "  This is the delivery engine. It run on condition that we have passengers in the elevator.\n",
        "  It delivers them in the order they enter. At any delivery point, it checks for new passengers to current empty capacity max.\n",
        "  If new passengers are present, it adds them by combining them with the current set, but gives them an entry order.\n",
        "  It does so until the elevator is empty\n",
        "  \"\"\"\n",
        "  def deliver_passengers(self):\n",
        "    passengers = self.spawn_passengers() #At the start we spawn passengers\n",
        "    order = list(passengers.keys())#I forced a list of the entry order to allow the dict to be mutable\n",
        "    served = []#You can used the served list to check the status of each passenger served\n",
        "    stop_count = 0 #Counter of stops\n",
        "    floor_count = 0#Counter of floors\n",
        "    picked_up = len(passengers) #Counter for number of picked up passengers\n",
        "    while len(passengers) >0:#Keep all passengers leave train\n",
        "      cur_pas = passengers[order[0]]#The current passenger in service will always be the first one to enter on the ordered list\n",
        "      floor_count += abs(cur_pas['Passenger'].destination-cur_pas['Passenger'].location) #Count number of floors travelled: Is abs end(destination)- start(location)  for current passenger.\n",
        "      if self.log:\n",
        "        print(f\"################################## Door open on on floor: {cur_pas['Passenger'].destination} ##################################\")\n",
        "      \"\"\"\n",
        "        To optimize the strategy, we will unload any passenger whose destinaation is reached regardless of entry order. It also cleans up the rare case(Due to randomization) where a passenger's enty and destination are the same. \n",
        "      \"\"\"\n",
        "      if self.optimal:\n",
        "        for  oe in order:#None the less, we will still check if any passenger has reached their = destination floor\n",
        "          if passengers[oe][\"Passenger\"].destination == cur_pas['Passenger'].destination:\n",
        "            passen = passengers[oe] #Make this a variable to allow for dict mutation\n",
        "            passen[\"Passenger\"].at_destination =  1 #Update the passenger list\n",
        "            served.append(passen) #Save the served passengers in the list for verification if needed\n",
        "            #Delete from record delivered passengers\n",
        "            del passengers[oe]#Delete them from the token of current passengers if they are delivered\n",
        "            if self.log:\n",
        "              print(f\"Delivered passenger {passen['Passenger_id']}, entry order {oe} on floor {passen['Passenger'].location}\"\\\n",
        "                    +f\" to floor {passen['Passenger'].destination}. Empty space: {self.capacity -len(passengers)}\")#Log statement showing they were delivered\n",
        "\n",
        "      else:\n",
        "        oe = order[0]\n",
        "        passen = passengers[oe] #Make this a variable to allow for dict mutation\n",
        "        passen[\"Passenger\"].at_destination =  1 #Update the passenger list\n",
        "        served.append(passen) #Save the served passengers in the list for verification if needed\n",
        "        #Delete from record delivered passengers\n",
        "        del passengers[oe]#Delete them from the token of current passengers if they are delivered\n",
        "        if self.log:\n",
        "          print(f\"Delivered passenger {passen['Passenger_id']}, entry order {oe} on floor {passen['Passenger'].location}\"\\\n",
        "                  +f\" to floor {passen['Passenger'].destination}. Empty space: {self.capacity -len(passengers)}\")#Log statement showing they were delivered\n",
        "        \n",
        "      #Pickup only till we have served stated num people. terminate when serving is done\n",
        "      if picked_up < self.num_people:\n",
        "        pickup = self.initiate(start_pass = max(order)+1, occupancy = self.capacity - len(passengers), start=False, floor = cur_pas['Passenger'].destination)#At any floor, also pickup passengers. Start is false\n",
        "        picked_up += len(pickup)\n",
        "      else:\n",
        "        pickup = {}#No pickup once we have \"About\" num_people passengers in elevator. This was limited since the last pickup can push this a bit over but rarely too much\n",
        "      passengers = {**passengers, **pickup} #Combine token of generated and spawed passengers.\n",
        "      if self.log:\n",
        "        print(f\"Picked up {len(pickup)} passenger(s) on floor {cur_pas['Passenger'].destination},occupants: {len(passengers)}, empty space: {self.capacity - len(passengers)}\")#Log picked up passengers\n",
        "      self.start_floor = cur_pas['Passenger'].location #Update the current starting floor.\n",
        "      if self.log:\n",
        "        print(f\"Number of passengers left {len(passengers)} \\n\") #Make a statement about passengers left.\n",
        "      order = list(passengers.keys())# Update the delivery order since some passengers have been unloaded.\n",
        "      #Update floor count\n",
        "      if len(served) < self.num_people: #Only count the stops for specified number. The loop continues though to serve all passengers\n",
        "        stop_count+=1#Count the number of stops\n",
        "    return {\"Number of stops\":stop_count, \"Number of floors\":floor_count, \"Served Passsengers\":served}\n",
        "\n",
        "#Uncomment Tests if you're curious what is happening\n",
        "#Test Case\n",
        "#el1 = Strategy2(log = True, optimal =True)#Include a log flag to turn on logs, optimal true\n",
        "#stats = el1.deliver_passengers()\n",
        "#print(stats)\n",
        "\n",
        "#Test Case to illustrate delivery process\n",
        "el2 = Strategy2(capacity=15, num_floors =4, num_people = 20,log = True, optimal =True)#Include a log flag to turn on logs, optimal False\n",
        "stat = el2.deliver_passengers()\n",
        "print(f\"Number of stops to deliver 20 people {stat['Number of stops']}\")\n",
        "\n",
        "#Simulation\n",
        "tot_stops = []\n",
        "floors2 = []\n",
        "simuls = 100\n",
        "for i in range(simuls):    \n",
        "  sim2 = Strategy2(log = False, optimal =True)#Include a log flag to turn off logs for faster simulation. Optimal turnt off\n",
        "  stat = sim2.deliver_passengers()\n",
        "  tot_stops.append(stat[\"Number of stops\"])\n",
        "  floors2.append(stat[\"Number of floors\"])\n",
        "  \n",
        "\"\"\"\n",
        "Clean up for a rare case wher the elevator didnt receive more pickups after first delivery set thus terminated.\n",
        "It rarely happens thus why I didnt prioritize telling the elvator to keep going up/down to keep things simple.\n",
        "\"\"\"\n",
        "\n",
        "\"\"\"\n",
        "This system focusses on the order of entry. At any exit, any passenger with that stop can leave regardless of the entry order,\n",
        "but the next stop it makes is the destination of the earliest passenger to enter in the bunch. It also picks up new passengers at each stop\n",
        "\n",
        "\n",
        "Strategy 3 prioritizes the destination that has the most passengers. \n",
        "On the long run, strategy 3 makes fewer stops than Brian's take on strategy 2.\n",
        "\"\"\"\n",
        "\n",
        "for el in tot_stops:\n",
        "  if el <20:\n",
        "    tot_stops.remove(el)\n",
        "print(f\"The average number of stops: {np.mean(tot_stops)}\\n\")\n"
      ],
      "execution_count": 53,
      "outputs": [
        {
          "output_type": "stream",
          "text": [
            "Picked up 3 passengers on floor 0, empty space = 12\n",
            "\n",
            "\n",
            "################################## Door open on on floor: 1 ##################################\n",
            "Delivered passenger mohUQYS0, entry order 0 on floor 0 to floor 1. Empty space: 13\n",
            "Delivered passenger TqGxBoe9, entry order 1 on floor 0 to floor 1. Empty space: 14\n",
            "Delivered passenger LaU9K6IJ, entry order 2 on floor 0 to floor 1. Empty space: 15\n",
            "Picked up 13 passenger(s) on floor 1,occupants: 13, empty space: 2\n",
            "Number of passengers left 13 \n",
            "\n",
            "################################## Door open on on floor: 0 ##################################\n",
            "Delivered passenger sbL945y4, entry order 3 on floor 1 to floor 0. Empty space: 3\n",
            "Delivered passenger dRhCEEFI, entry order 5 on floor 1 to floor 0. Empty space: 4\n",
            "Delivered passenger RoF9QyUh, entry order 7 on floor 1 to floor 0. Empty space: 5\n",
            "Delivered passenger 7fwXaEDq, entry order 12 on floor 1 to floor 0. Empty space: 6\n",
            "Delivered passenger PFmQmZFb, entry order 13 on floor 1 to floor 0. Empty space: 7\n",
            "Picked up 5 passenger(s) on floor 0,occupants: 13, empty space: 2\n",
            "Number of passengers left 13 \n",
            "\n",
            "################################## Door open on on floor: 3 ##################################\n",
            "Delivered passenger dIq1zBOf, entry order 4 on floor 1 to floor 3. Empty space: 3\n",
            "Delivered passenger HHnBnMH7, entry order 8 on floor 1 to floor 3. Empty space: 4\n",
            "Delivered passenger VZKpiLWt, entry order 10 on floor 1 to floor 3. Empty space: 5\n",
            "Delivered passenger faGBDQLD, entry order 11 on floor 1 to floor 3. Empty space: 6\n",
            "Delivered passenger JVNEB63J, entry order 14 on floor 1 to floor 3. Empty space: 7\n",
            "Delivered passenger yXzEbzVd, entry order 15 on floor 1 to floor 3. Empty space: 8\n",
            "Delivered passenger c3PZ9Zcm, entry order 16 on floor 0 to floor 3. Empty space: 9\n",
            "Picked up 0 passenger(s) on floor 3,occupants: 6, empty space: 9\n",
            "Number of passengers left 6 \n",
            "\n",
            "################################## Door open on on floor: 2 ##################################\n",
            "Delivered passenger BHE9lcoe, entry order 6 on floor 1 to floor 2. Empty space: 10\n",
            "Delivered passenger DVvsuaw4, entry order 9 on floor 1 to floor 2. Empty space: 11\n",
            "Delivered passenger h6uPyTJQ, entry order 17 on floor 0 to floor 2. Empty space: 12\n",
            "Delivered passenger Fh16xkWM, entry order 19 on floor 0 to floor 2. Empty space: 13\n",
            "Picked up 0 passenger(s) on floor 2,occupants: 2, empty space: 13\n",
            "Number of passengers left 2 \n",
            "\n",
            "################################## Door open on on floor: 1 ##################################\n",
            "Delivered passenger cqJYrPez, entry order 18 on floor 0 to floor 1. Empty space: 14\n",
            "Delivered passenger GVp4qqtM, entry order 20 on floor 0 to floor 1. Empty space: 15\n",
            "Picked up 0 passenger(s) on floor 1,occupants: 0, empty space: 15\n",
            "Number of passengers left 0 \n",
            "\n",
            "Number of stops to deliver 20 people 4\n",
            "The average number of stops: 166.06\n",
            "\n"
          ],
          "name": "stdout"
        }
      ]
    },
    {
      "metadata": {
        "id": "AmUkS-7unPn_",
        "colab_type": "text"
      },
      "cell_type": "markdown",
      "source": [
        "** Strategy 3 **\n",
        "\n",
        "The elevator begins on the ground floor and accepts all passengers waiting there or as many as it can carry. If there are no passengers on the ground floor, it moves to the floor where the most people are waiting. Ties in the number of people waiting are awarded to the smallest floor. After picking up passengers, the elevator's destination is the mode (if the capacity is 5p and 3p want to go to floor 4, and 2p want to go to floor 3). Ties in destination-floor are awarded to the floor with the lowest value.\n",
        "\n",
        "**Personal report**\n",
        "\n",
        "Strategy 3 prioritized the destination that most passengers wanted to go to, unlike strategy which prioritized entry order.\n",
        "\n",
        "I realized they have quite a similar average travelled floors so i though it interesting to compare the number of travelled floors to see if this shows us any differences."
      ]
    },
    {
      "metadata": {
        "id": "Ea2BeqNnnO_M",
        "colab_type": "code",
        "colab": {
          "base_uri": "https://localhost:8080/",
          "height": 480
        },
        "outputId": "1d5eef42-e8c8-4d94-eb5a-07a0739b6598"
      },
      "cell_type": "code",
      "source": [
        "def strategy_3(start_floor, elev_cap, num_floors, num_people, print_status=False):\n",
        "    # Create an Elevator object and a Building object\n",
        "    elevator = Elevator(capacity=elev_cap, location=start_floor)\n",
        "    building = Building(num_floors)\n",
        "    stops = 0\n",
        "    floors_traveled = 0\n",
        "    \n",
        "    people=[]\n",
        "    \n",
        "    # Create Passenger objects and generate random starting\n",
        "    # and destination floors for each, similar to the first strategy\n",
        "    for i in range(num_people):\n",
        "        init_floor = random.randint(1, building.num_floors)\n",
        "        f = [x for x in range(1, building.num_floors + 1) if x != init_floor]\n",
        "        destination = random.choice(f)\n",
        "        person = Passenger(location=init_floor, destination=destination, at_destination=0)\n",
        "        people.append(person)\n",
        "    \n",
        "    # A while loop that runs until everyone has arrived at their destinations\n",
        "    while finish_check(people) is False:\n",
        "        \n",
        "        # Load and unload people\n",
        "        elevator.unload()\n",
        "        elevator.load(people)\n",
        "\n",
        "        \n",
        "        # To get the next floor if there are people in the elevator\n",
        "        if len(elevator.occupants)!=0:\n",
        "            # The next floor is the most popular destination, if there are more\n",
        "            # than one, choose the smallest one\n",
        "            destination_mode = int(stats.mode([person.destination for person in elevator.occupants])[0])\n",
        "            next_floor = destination_mode\n",
        "            \n",
        "        \n",
        "        # Stop the elevator if everyone has arrived\n",
        "        elif finish_check(people) is True:\n",
        "            break\n",
        "        # To get the next floor if there is no-one in the elevator\n",
        "        else:\n",
        "            # The next floor is where the most people waiting, if there are more\n",
        "            # than one, choose the smallest one\n",
        "            floor_mode = int(stats.mode([person.location for person in people\\\n",
        "                                         if isinstance(person.location,int)])[0])\n",
        "            next_floor = floor_mode\n",
        "            \n",
        "        \n",
        "            \n",
        "        # add the number of floors travelled between the current and next stops\n",
        "        floors_traveled += abs(next_floor-elevator.location)\n",
        "\n",
        "        # move the elevator to the next floor obtained above\n",
        "        elevator.to_floor(next_floor)\n",
        "        # add one stop to the counter\n",
        "        stops += 1\n",
        "        \n",
        "        if print_status:\n",
        "            print('Current Locations: ', list(map(attrgetter('location'), people)))\n",
        "\n",
        "    # Return the number of stops and the number of floors the elevator has travelled\n",
        "    return stops, floors_traveled\n",
        "\n",
        "# To check if everyone has arrived    \n",
        "def finish_check(people):\n",
        "    for passenger in people:\n",
        "        if passenger.location!='arrived':\n",
        "            return False\n",
        "    return True\n",
        "strat_3 = strategy_3(start_floor=1, elev_cap=15, num_floors=12, num_people=50, print_status=True)"
      ],
      "execution_count": 54,
      "outputs": [
        {
          "output_type": "stream",
          "text": [
            "Current Locations:  [6, 4, 10, 4, 'on elevator', 7, 'on elevator', 10, 3, 11, 12, 9, 6, 2, 'on elevator', 2, 4, 8, 11, 8, 7, 9, 11, 6, 11, 8, 11, 2, 4, 7, 2, 8, 4, 2, 11, 'on elevator', 7, 2, 3, 2, 9, 12, 10, 4, 5, 8, 'on elevator', 4, 9, 9]\n",
            "Current Locations:  [6, 4, 10, 4, 'arrived', 7, 'on elevator', 10, 3, 11, 12, 9, 6, 'on elevator', 'arrived', 'on elevator', 4, 8, 11, 8, 7, 9, 11, 6, 11, 8, 11, 'on elevator', 4, 7, 'on elevator', 8, 4, 'on elevator', 11, 'on elevator', 7, 'on elevator', 3, 'on elevator', 9, 12, 10, 4, 5, 8, 'on elevator', 4, 9, 9]\n",
            "Current Locations:  [6, 4, 10, 4, 'arrived', 7, 'on elevator', 10, 3, 11, 12, 9, 6, 'on elevator', 'arrived', 'arrived', 4, 8, 11, 8, 7, 9, 11, 6, 11, 8, 11, 'on elevator', 4, 7, 'on elevator', 8, 4, 'on elevator', 11, 'on elevator', 7, 'on elevator', 3, 'on elevator', 9, 12, 10, 4, 5, 8, 'on elevator', 4, 9, 9]\n",
            "Current Locations:  [6, 4, 10, 4, 'arrived', 7, 'on elevator', 10, 3, 11, 12, 9, 6, 'on elevator', 'arrived', 'arrived', 4, 'on elevator', 11, 'on elevator', 7, 9, 11, 6, 11, 'on elevator', 11, 'on elevator', 4, 7, 'arrived', 'on elevator', 4, 'on elevator', 11, 'on elevator', 7, 'on elevator', 3, 'arrived', 9, 12, 10, 4, 5, 'on elevator', 'on elevator', 4, 9, 9]\n",
            "Current Locations:  [6, 'on elevator', 10, 'on elevator', 'arrived', 7, 'on elevator', 10, 3, 11, 12, 9, 6, 'on elevator', 'arrived', 'arrived', 'on elevator', 'arrived', 11, 'on elevator', 7, 9, 11, 6, 11, 'on elevator', 11, 'on elevator', 'on elevator', 7, 'arrived', 'on elevator', 'on elevator', 'on elevator', 11, 'on elevator', 7, 'on elevator', 3, 'arrived', 9, 12, 10, 4, 5, 'on elevator', 'arrived', 4, 9, 9]\n",
            "Current Locations:  [6, 'arrived', 10, 'on elevator', 'arrived', 7, 'on elevator', 10, 3, 11, 12, 9, 6, 'on elevator', 'arrived', 'arrived', 'on elevator', 'arrived', 11, 'on elevator', 7, 9, 11, 6, 11, 'on elevator', 11, 'on elevator', 'arrived', 7, 'arrived', 'on elevator', 'on elevator', 'on elevator', 11, 'on elevator', 7, 'on elevator', 3, 'arrived', 9, 12, 10, 4, 5, 'on elevator', 'arrived', 4, 9, 9]\n",
            "Current Locations:  [6, 'arrived', 10, 'arrived', 'arrived', 7, 'on elevator', 10, 3, 11, 12, 9, 6, 'on elevator', 'arrived', 'arrived', 'on elevator', 'arrived', 11, 'arrived', 7, 9, 11, 6, 11, 'on elevator', 11, 'on elevator', 'arrived', 7, 'arrived', 'on elevator', 'on elevator', 'on elevator', 11, 'on elevator', 7, 'on elevator', 3, 'arrived', 9, 12, 10, 4, 'on elevator', 'on elevator', 'arrived', 4, 9, 9]\n",
            "Current Locations:  [6, 'arrived', 10, 'arrived', 'arrived', 7, 'on elevator', 10, 3, 11, 12, 9, 6, 'on elevator', 'arrived', 'arrived', 'on elevator', 'arrived', 11, 'arrived', 7, 9, 11, 6, 11, 'on elevator', 11, 'arrived', 'arrived', 7, 'arrived', 'on elevator', 'on elevator', 'on elevator', 11, 'on elevator', 7, 'on elevator', 3, 'arrived', 9, 12, 10, 4, 'arrived', 'on elevator', 'arrived', 4, 9, 9]\n",
            "Current Locations:  [6, 'arrived', 10, 'arrived', 'arrived', 7, 'on elevator', 10, 3, 11, 12, 'on elevator', 6, 'on elevator', 'arrived', 'arrived', 'on elevator', 'arrived', 11, 'arrived', 7, 'on elevator', 11, 6, 11, 'on elevator', 11, 'arrived', 'arrived', 7, 'arrived', 'on elevator', 'on elevator', 'on elevator', 11, 'on elevator', 7, 'arrived', 3, 'arrived', 'on elevator', 12, 10, 4, 'arrived', 'arrived', 'arrived', 4, 'on elevator', 'on elevator']\n",
            "Current Locations:  ['on elevator', 'arrived', 10, 'arrived', 'arrived', 7, 'on elevator', 10, 3, 11, 12, 'on elevator', 'on elevator', 'on elevator', 'arrived', 'arrived', 'on elevator', 'arrived', 11, 'arrived', 7, 'on elevator', 11, 'on elevator', 11, 'arrived', 11, 'arrived', 'arrived', 7, 'arrived', 'on elevator', 'on elevator', 'on elevator', 11, 'on elevator', 7, 'arrived', 3, 'arrived', 'on elevator', 12, 10, 4, 'arrived', 'arrived', 'arrived', 4, 'on elevator', 'arrived']\n",
            "Current Locations:  ['on elevator', 'arrived', 10, 'arrived', 'arrived', 7, 'on elevator', 10, 3, 11, 12, 'on elevator', 'arrived', 'on elevator', 'arrived', 'arrived', 'on elevator', 'arrived', 11, 'arrived', 7, 'arrived', 11, 'on elevator', 11, 'arrived', 11, 'arrived', 'arrived', 7, 'arrived', 'on elevator', 'arrived', 'on elevator', 11, 'on elevator', 7, 'arrived', 3, 'arrived', 'on elevator', 12, 10, 4, 'arrived', 'arrived', 'arrived', 4, 'on elevator', 'arrived']\n",
            "Current Locations:  ['arrived', 'arrived', 10, 'arrived', 'arrived', 7, 'on elevator', 10, 3, 'on elevator', 12, 'on elevator', 'arrived', 'on elevator', 'arrived', 'arrived', 'on elevator', 'arrived', 'on elevator', 'arrived', 7, 'arrived', 'on elevator', 'on elevator', 'on elevator', 'arrived', 'on elevator', 'arrived', 'arrived', 7, 'arrived', 'on elevator', 'arrived', 'arrived', 'on elevator', 'arrived', 7, 'arrived', 3, 'arrived', 'on elevator', 12, 10, 4, 'arrived', 'arrived', 'arrived', 4, 'on elevator', 'arrived']\n",
            "Current Locations:  ['arrived', 'arrived', 10, 'arrived', 'arrived', 7, 'on elevator', 10, 3, 'on elevator', 12, 'on elevator', 'arrived', 'on elevator', 'arrived', 'arrived', 'on elevator', 'arrived', 'on elevator', 'arrived', 7, 'arrived', 'on elevator', 'on elevator', 'arrived', 'arrived', 'on elevator', 'arrived', 'arrived', 7, 'arrived', 'on elevator', 'arrived', 'arrived', 'arrived', 'arrived', 7, 'arrived', 3, 'arrived', 'on elevator', 12, 10, 4, 'arrived', 'arrived', 'arrived', 4, 'arrived', 'arrived']\n",
            "Current Locations:  ['arrived', 'arrived', 10, 'arrived', 'arrived', 7, 'on elevator', 10, 3, 'on elevator', 12, 'on elevator', 'arrived', 'on elevator', 'arrived', 'arrived', 'on elevator', 'arrived', 'arrived', 'arrived', 7, 'arrived', 'on elevator', 'on elevator', 'arrived', 'arrived', 'on elevator', 'arrived', 'arrived', 7, 'arrived', 'on elevator', 'arrived', 'arrived', 'arrived', 'arrived', 7, 'arrived', 3, 'arrived', 'on elevator', 12, 10, 4, 'arrived', 'arrived', 'arrived', 4, 'arrived', 'arrived']\n",
            "Current Locations:  ['arrived', 'arrived', 10, 'arrived', 'arrived', 'on elevator', 'arrived', 10, 3, 'on elevator', 12, 'on elevator', 'arrived', 'on elevator', 'arrived', 'arrived', 'on elevator', 'arrived', 'arrived', 'arrived', 'on elevator', 'arrived', 'on elevator', 'on elevator', 'arrived', 'arrived', 'on elevator', 'arrived', 'arrived', 'on elevator', 'arrived', 'on elevator', 'arrived', 'arrived', 'arrived', 'arrived', 'on elevator', 'arrived', 3, 'arrived', 'arrived', 12, 10, 4, 'arrived', 'arrived', 'arrived', 4, 'arrived', 'arrived']\n",
            "Current Locations:  ['arrived', 'arrived', 10, 'arrived', 'arrived', 'arrived', 'arrived', 10, 3, 'arrived', 12, 'on elevator', 'arrived', 'on elevator', 'arrived', 'arrived', 'on elevator', 'arrived', 'arrived', 'arrived', 'on elevator', 'arrived', 'on elevator', 'on elevator', 'arrived', 'arrived', 'on elevator', 'arrived', 'arrived', 'on elevator', 'arrived', 'on elevator', 'arrived', 'arrived', 'arrived', 'arrived', 'on elevator', 'arrived', 3, 'arrived', 'arrived', 12, 10, 'on elevator', 'arrived', 'arrived', 'arrived', 'on elevator', 'arrived', 'arrived']\n",
            "Current Locations:  ['arrived', 'arrived', 10, 'arrived', 'arrived', 'arrived', 'arrived', 10, 3, 'arrived', 'on elevator', 'on elevator', 'arrived', 'arrived', 'arrived', 'arrived', 'on elevator', 'arrived', 'arrived', 'arrived', 'on elevator', 'arrived', 'on elevator', 'on elevator', 'arrived', 'arrived', 'on elevator', 'arrived', 'arrived', 'on elevator', 'arrived', 'on elevator', 'arrived', 'arrived', 'arrived', 'arrived', 'on elevator', 'arrived', 3, 'arrived', 'arrived', 'on elevator', 10, 'arrived', 'arrived', 'arrived', 'arrived', 'on elevator', 'arrived', 'arrived']\n",
            "Current Locations:  ['arrived', 'arrived', 10, 'arrived', 'arrived', 'arrived', 'arrived', 10, 3, 'arrived', 'on elevator', 'on elevator', 'arrived', 'arrived', 'arrived', 'arrived', 'on elevator', 'arrived', 'arrived', 'arrived', 'on elevator', 'arrived', 'on elevator', 'on elevator', 'arrived', 'arrived', 'on elevator', 'arrived', 'arrived', 'arrived', 'arrived', 'on elevator', 'arrived', 'arrived', 'arrived', 'arrived', 'on elevator', 'arrived', 3, 'arrived', 'arrived', 'arrived', 10, 'arrived', 'arrived', 'arrived', 'arrived', 'on elevator', 'arrived', 'arrived']\n",
            "Current Locations:  ['arrived', 'arrived', 10, 'arrived', 'arrived', 'arrived', 'arrived', 10, 3, 'arrived', 'arrived', 'on elevator', 'arrived', 'arrived', 'arrived', 'arrived', 'on elevator', 'arrived', 'arrived', 'arrived', 'on elevator', 'arrived', 'on elevator', 'arrived', 'arrived', 'arrived', 'on elevator', 'arrived', 'arrived', 'arrived', 'arrived', 'on elevator', 'arrived', 'arrived', 'arrived', 'arrived', 'on elevator', 'arrived', 3, 'arrived', 'arrived', 'arrived', 10, 'arrived', 'arrived', 'arrived', 'arrived', 'on elevator', 'arrived', 'arrived']\n",
            "Current Locations:  ['arrived', 'arrived', 'on elevator', 'arrived', 'arrived', 'arrived', 'arrived', 'on elevator', 3, 'arrived', 'arrived', 'on elevator', 'arrived', 'arrived', 'arrived', 'arrived', 'arrived', 'arrived', 'arrived', 'arrived', 'on elevator', 'arrived', 'on elevator', 'arrived', 'arrived', 'arrived', 'on elevator', 'arrived', 'arrived', 'arrived', 'arrived', 'on elevator', 'arrived', 'arrived', 'arrived', 'arrived', 'on elevator', 'arrived', 3, 'arrived', 'arrived', 'arrived', 'on elevator', 'arrived', 'arrived', 'arrived', 'arrived', 'on elevator', 'arrived', 'arrived']\n",
            "Current Locations:  ['arrived', 'arrived', 'arrived', 'arrived', 'arrived', 'arrived', 'arrived', 'on elevator', 3, 'arrived', 'arrived', 'on elevator', 'arrived', 'arrived', 'arrived', 'arrived', 'arrived', 'arrived', 'arrived', 'arrived', 'on elevator', 'arrived', 'on elevator', 'arrived', 'arrived', 'arrived', 'arrived', 'arrived', 'arrived', 'arrived', 'arrived', 'on elevator', 'arrived', 'arrived', 'arrived', 'arrived', 'on elevator', 'arrived', 3, 'arrived', 'arrived', 'arrived', 'on elevator', 'arrived', 'arrived', 'arrived', 'arrived', 'on elevator', 'arrived', 'arrived']\n",
            "Current Locations:  ['arrived', 'arrived', 'arrived', 'arrived', 'arrived', 'arrived', 'arrived', 'on elevator', 'on elevator', 'arrived', 'arrived', 'on elevator', 'arrived', 'arrived', 'arrived', 'arrived', 'arrived', 'arrived', 'arrived', 'arrived', 'on elevator', 'arrived', 'on elevator', 'arrived', 'arrived', 'arrived', 'arrived', 'arrived', 'arrived', 'arrived', 'arrived', 'on elevator', 'arrived', 'arrived', 'arrived', 'arrived', 'arrived', 'arrived', 'on elevator', 'arrived', 'arrived', 'arrived', 'arrived', 'arrived', 'arrived', 'arrived', 'arrived', 'on elevator', 'arrived', 'arrived']\n",
            "Current Locations:  ['arrived', 'arrived', 'arrived', 'arrived', 'arrived', 'arrived', 'arrived', 'on elevator', 'on elevator', 'arrived', 'arrived', 'on elevator', 'arrived', 'arrived', 'arrived', 'arrived', 'arrived', 'arrived', 'arrived', 'arrived', 'on elevator', 'arrived', 'on elevator', 'arrived', 'arrived', 'arrived', 'arrived', 'arrived', 'arrived', 'arrived', 'arrived', 'arrived', 'arrived', 'arrived', 'arrived', 'arrived', 'arrived', 'arrived', 'arrived', 'arrived', 'arrived', 'arrived', 'arrived', 'arrived', 'arrived', 'arrived', 'arrived', 'arrived', 'arrived', 'arrived']\n",
            "Current Locations:  ['arrived', 'arrived', 'arrived', 'arrived', 'arrived', 'arrived', 'arrived', 'on elevator', 'arrived', 'arrived', 'arrived', 'on elevator', 'arrived', 'arrived', 'arrived', 'arrived', 'arrived', 'arrived', 'arrived', 'arrived', 'arrived', 'arrived', 'on elevator', 'arrived', 'arrived', 'arrived', 'arrived', 'arrived', 'arrived', 'arrived', 'arrived', 'arrived', 'arrived', 'arrived', 'arrived', 'arrived', 'arrived', 'arrived', 'arrived', 'arrived', 'arrived', 'arrived', 'arrived', 'arrived', 'arrived', 'arrived', 'arrived', 'arrived', 'arrived', 'arrived']\n",
            "Current Locations:  ['arrived', 'arrived', 'arrived', 'arrived', 'arrived', 'arrived', 'arrived', 'on elevator', 'arrived', 'arrived', 'arrived', 'on elevator', 'arrived', 'arrived', 'arrived', 'arrived', 'arrived', 'arrived', 'arrived', 'arrived', 'arrived', 'arrived', 'arrived', 'arrived', 'arrived', 'arrived', 'arrived', 'arrived', 'arrived', 'arrived', 'arrived', 'arrived', 'arrived', 'arrived', 'arrived', 'arrived', 'arrived', 'arrived', 'arrived', 'arrived', 'arrived', 'arrived', 'arrived', 'arrived', 'arrived', 'arrived', 'arrived', 'arrived', 'arrived', 'arrived']\n",
            "Current Locations:  ['arrived', 'arrived', 'arrived', 'arrived', 'arrived', 'arrived', 'arrived', 'arrived', 'arrived', 'arrived', 'arrived', 'on elevator', 'arrived', 'arrived', 'arrived', 'arrived', 'arrived', 'arrived', 'arrived', 'arrived', 'arrived', 'arrived', 'arrived', 'arrived', 'arrived', 'arrived', 'arrived', 'arrived', 'arrived', 'arrived', 'arrived', 'arrived', 'arrived', 'arrived', 'arrived', 'arrived', 'arrived', 'arrived', 'arrived', 'arrived', 'arrived', 'arrived', 'arrived', 'arrived', 'arrived', 'arrived', 'arrived', 'arrived', 'arrived', 'arrived']\n"
          ],
          "name": "stdout"
        }
      ]
    },
    {
      "metadata": {
        "id": "hukxvN2OoFU2",
        "colab_type": "code",
        "colab": {
          "base_uri": "https://localhost:8080/",
          "height": 34
        },
        "outputId": "e2b74f39-8854-4fd5-e9cc-cf034d745614"
      },
      "cell_type": "code",
      "source": [
        "# Get the average numbers of stops made and floors travelled by the elevator\n",
        "# after running 100 simulations with specified parameters for the 3rd strategy\n",
        "stops_3=[]\n",
        "floors_traveled_3=[]\n",
        "for i in range(100):\n",
        "    a, b = strategy_3(start_floor=1, elev_cap=15, num_floors=12, num_people=400)\n",
        "    stops_3.append(a)\n",
        "    floors_traveled_3.append(b)\n",
        "\n",
        "print('The average number of stops: %f' % np.mean(stops_3))"
      ],
      "execution_count": 55,
      "outputs": [
        {
          "output_type": "stream",
          "text": [
            "The average number of stops: 167.390000\n"
          ],
          "name": "stdout"
        }
      ]
    },
    {
      "metadata": {
        "id": "10TdMMEeoY9P",
        "colab_type": "text"
      },
      "cell_type": "markdown",
      "source": [
        "** Strategy comparison. **\n",
        "For all strategy,we plot the number of stops to observe their distribution. A key their stats and what they mean is discussed later.\n",
        "\n",
        "For strategy 2 and 3, we also compare the number of floors to attempt breaking the tie."
      ]
    },
    {
      "metadata": {
        "id": "aFpwjgHBoYPz",
        "colab_type": "code",
        "colab": {
          "base_uri": "https://localhost:8080/",
          "height": 376
        },
        "outputId": "1d0ee912-9ce1-435f-dfed-6b7c9f4c066b"
      },
      "cell_type": "code",
      "source": [
        "# Comparison of the three strategies\n",
        "plt.hist(stops_1, fc=(0, 0, 0, 0.5))\n",
        "plt.hist(tot_stops, color='r', fc=(1, 0, 0, 0.5))\n",
        "plt.hist(stops_3, fc=(0, 0, 1, 0.5))\n",
        "plt.title(\"Comparison of 3 strategies by stops\")\n",
        "plt.ylabel(\"Number of occurences\")\n",
        "plt.xlabel(\"Number of stops\")\n",
        "plt.legend([\"Strategy 1\", \"Strategy 2\", \"Strategy 3\"])\n",
        "plt.show()"
      ],
      "execution_count": 56,
      "outputs": [
        {
          "output_type": "display_data",
          "data": {
            "image/png": "[encoded data removed]",
            "text/plain": [
              "<Figure size 576x396 with 1 Axes>"
            ]
          },
          "metadata": {
            "tags": []
          }
        }
      ]
    },
    {
      "metadata": {
        "id": "QDqz8ot0oy6f",
        "colab_type": "text"
      },
      "cell_type": "markdown",
      "source": [
        "** Floor comparison **"
      ]
    },
    {
      "metadata": {
        "id": "tShtESmao4Qv",
        "colab_type": "code",
        "colab": {
          "base_uri": "https://localhost:8080/",
          "height": 410
        },
        "outputId": "e5f291e7-5040-49dc-e9ba-a4afbca421fd"
      },
      "cell_type": "code",
      "source": [
        "# Comparison of the three strategies\n",
        "plt.hist(floors_traveled_3, fc=(0, 0, 0, 0.5))\n",
        "plt.hist(floors2, fc=(0, 0, 1, 0.5))\n",
        "plt.title(\"Comparison of 2 strategies by floor\")\n",
        "plt.ylabel(\"Number of occurences\")\n",
        "plt.xlabel(\"Number of stops\")\n",
        "plt.legend([\"Strategy 3\", \"Strategy 2\"])\n",
        "plt.show()\n",
        "print(f\"Average floors travelled for strategy 3: {np.mean(floors_traveled_3)}\")\n",
        "print(f\"Average floors travelled for strategy 2: {np.mean(floors2)}\")"
      ],
      "execution_count": 57,
      "outputs": [
        {
          "output_type": "display_data",
          "data": {
            "image/png": "[encoded data removed]",
            "text/plain": [
              "<Figure size 576x396 with 1 Axes>"
            ]
          },
          "metadata": {
            "tags": []
          }
        },
        {
          "output_type": "stream",
          "text": [
            "Average floors travelled for strategy 3: 687.42\n",
            "Average floors travelled for strategy 2: 737.15\n"
          ],
          "name": "stdout"
        }
      ]
    },
    {
      "metadata": {
        "id": "I8kyB4IarKr6",
        "colab_type": "text"
      },
      "cell_type": "markdown",
      "source": [
        "It is quite clear that while  strategy 2 and 3 all make similar number of stops, strategy 2 generally travells less stops and as such, is the best strategy of the three.\n",
        "\n",
        "** Stats **\n",
        "\n",
        "Average number of stops:\n",
        "\n",
        "*Strategy 1:* c 297\n",
        "\n",
        "*Strategy 2:* c 166\n",
        "\n",
        "*Strategy 3:* c 168\n",
        "\n",
        "** Stats **\n",
        "\n",
        "Average number of floors travelled:\n",
        "\n",
        "*Strategy 1:* Untracked\n",
        "\n",
        "*Strategy 2:*  c 730\n",
        "\n",
        "*Strategy 3:* c 680"
      ]
    }
  ]
}