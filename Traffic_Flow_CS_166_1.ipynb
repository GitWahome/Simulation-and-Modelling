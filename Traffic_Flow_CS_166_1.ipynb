{
  "nbformat": 4,
  "nbformat_minor": 0,
  "metadata": {
    "colab": {
      "name": "Traffic-Flow-CS-166-1.ipynb",
      "version": "0.3.2",
      "provenance": [],
      "include_colab_link": true
    },
    "kernelspec": {
      "display_name": "Python 3",
      "language": "python",
      "name": "python3"
    }
  },
  "cells": [
    {
      "cell_type": "markdown",
      "metadata": {
        "id": "view-in-github",
        "colab_type": "text"
      },
      "source": [
        "<a href=\"https://colab.research.google.com/github/GitWahome/Simulation-and-Modelling/blob/master/Traffic_Flow_CS_166_1.ipynb\" target=\"_parent\"><img src=\"https://colab.research.google.com/assets/colab-badge.svg\" alt=\"Open In Colab\"/></a>"
      ]
    },
    {
      "metadata": {
        "id": "UVSVt1Ym9Vs4",
        "colab_type": "text"
      },
      "cell_type": "markdown",
      "source": [
        "# Modeling the flow of traffic with rule 184"
      ]
    },
    {
      "metadata": {
        "id": "ZkvYquCk9Vs8",
        "colab_type": "code",
        "colab": {}
      },
      "cell_type": "code",
      "source": [
        "import random\n",
        "from copy import copy\n",
        "import numpy as np \n",
        "#resource http://www.programmersought.com/article/264757523/ \n",
        "        \n",
        "class TrafficSimulation:\n",
        "    \"\"\"\n",
        "    Base simulation class simulating traffic for a one lane highway using one dimensional cellular automata \n",
        "    \"\"\"\n",
        "    def __init__(self,road_length=100, traffic_density=0.03,max_velocity=5, slow_prob=0.5, simulation_runs = 5, verbose=False):\n",
        "        \"\"\"\n",
        "        Constructor function \n",
        "        Args: \n",
        "            road_length (int)\n",
        "            traffic_density(float)\n",
        "            max_velocity(int)\n",
        "            slow_prob(float)\n",
        "            simulation_runs(int)\n",
        "            \n",
        "        \"\"\"\n",
        "        self.road_length = int(road_length)\n",
        "        self.traffic_density = float(traffic_density) \n",
        "        self.max_velocity = int(max_velocity) \n",
        "        self.slow_prob = float(slow_prob)\n",
        "        self.state = [-1]*self.road_length\n",
        "        self.simulation_runs = int(simulation_runs)\n",
        "        self.cross_count = 0\n",
        "        self.verbose = verbose\n",
        "        self.initialize_state()\n",
        "        \n",
        "        \n",
        "    def initialize_state(self):\n",
        "        \"\"\"\n",
        "        Creates random starting positions for the specified number of cars.\n",
        "        Args: \n",
        "            None\n",
        "        Returns: \n",
        "            None\n",
        "        \"\"\"\n",
        "        #car positions \n",
        "        positions = random.sample(range(self.road_length), int(self.traffic_density*self.road_length))\n",
        "        #insert values at each position with starting velocities \n",
        "        for position in positions:\n",
        "            self.state[position] = random.randint(0,self.max_velocity)\n",
        "            \n",
        "            \n",
        "    def display(self):\n",
        "        \"\"\"\n",
        "        Prints the state of the simulation when called. Dots for empty spaces on the road and an integer value \n",
        "        to represent a car on the road by it's velocity\n",
        "        \"\"\"\n",
        "        if self.verbose:\n",
        "            print(''.join('.' if x == -1 else str(x) for x in self.state))\n",
        "        \n",
        "    def update_states(self):\n",
        "        \"\"\"\n",
        "        Step through the simulation executing first 3 update steps in one for loop and a second for loop \n",
        "        to move the 'cars'\n",
        "        \"\"\"\n",
        "        #preserve old state\n",
        "        old_state = copy(self.state)\n",
        "        #update velocities \n",
        "        for i in range(self.road_length):\n",
        "            if old_state[i] != -1:\n",
        "                #increment speed if it is not alredy max \n",
        "                if (old_state[i] + 1) <= self.max_velocity:\n",
        "                    new_speed = old_state[i] + 1\n",
        "                else:\n",
        "                    new_speed = old_state[i]\n",
        "                #update speed \n",
        "                #self.state[i] = new_speed #don't update speed yet\n",
        "                #slow down\n",
        "                #while we haven't encountered 0, continue getting next cell and increment box counter\n",
        "                box_counter = 0\n",
        "                next_cell_index = i\n",
        "                for _ in range(self.max_velocity):\n",
        "                    #get next cell, check if -1 and if so add to box_counter\n",
        "                    if old_state[(next_cell_index+1) % (self.road_length)] == -1:\n",
        "                        box_counter += 1\n",
        "                        next_cell_index = (next_cell_index+1) % (self.road_length)\n",
        "                    else:\n",
        "                        break \n",
        "                #check box_counter and update new_speed as appropriate.\n",
        "                if new_speed > box_counter:\n",
        "                    new_speed = box_counter\n",
        "                \n",
        "                #randomly reduce the speed by 1 based on the given probability \n",
        "                if random.random() < self.slow_prob:\n",
        "                    if new_speed > 0:\n",
        "                        new_speed -= 1 \n",
        "                    \n",
        "                #finally update the speed to self.state\n",
        "                self.state[i] = new_speed\n",
        "                        \n",
        "                    \n",
        "        #visualize before updating positions \n",
        "        self.display()\n",
        "            \n",
        "        #update positions by moving forward these speeds\n",
        "        # update the old state variable to use again \n",
        "        old_state = copy(self.state)\n",
        "        for k in range(self.road_length):\n",
        "            if old_state[k] != int(-1):\n",
        "                #According to the second rule, no collisions will occur therefore we can just move as we \n",
        "                # pass through the list\n",
        "                #print('next state is',((i+self.state[i])%(self.road_length)))\n",
        "                #print('self.state just before update',self.state)\n",
        "                self.state[((k+old_state[k])%(self.road_length))] = copy(old_state[k])\n",
        "                #add to traffic flow counter i.e if the next state is less than current, then it crossed\n",
        "                #the periodic boundary \n",
        "                if ((k+old_state[k])%(self.road_length)) < k:\n",
        "                    self.cross_count += 1\n",
        "                #reset the vacated cell to -1 \n",
        "                #if the velocity is zero, don't reset state\n",
        "                if old_state[k] == 0:\n",
        "                    pass \n",
        "                else:\n",
        "                    self.state[k] = -1\n",
        "                \n",
        "                \n",
        "    def run(self):\n",
        "        \"\"\"\n",
        "        Runs the simulation a certain number of steps \n",
        "        \"\"\"\n",
        "        for _ in range(self.simulation_runs):\n",
        "            self.update_states()\n",
        "            \n",
        "\n",
        "        \n",
        "        "
      ],
      "execution_count": 0,
      "outputs": []
    },
    {
      "metadata": {
        "id": "SoofBlGk9VtC",
        "colab_type": "code",
        "colab": {},
        "outputId": "7a364449-500f-4b9d-9e2e-d7a805a3314f"
      },
      "cell_type": "code",
      "source": [
        "# to generate figure 1\n",
        "model1 = TrafficSimulation(traffic_density=0.03, simulation_runs=15, verbose=True)\n",
        "model1.run()"
      ],
      "execution_count": 0,
      "outputs": [
        {
          "output_type": "stream",
          "text": [
            "...................................................................2..............1.3...............\n",
            ".....................................................................2.............1...4............\n",
            ".......................................................................3............1......4........\n",
            "..........................................................................4..........2.........4....\n",
            "..............................................................................4........3...........4\n",
            "...5..............................................................................4.......3.........\n",
            "........5.............................................................................5......4......\n",
            ".............5.............................................................................5.....5..\n",
            "..4...............5.............................................................................5...\n",
            ".3....5................5............................................................................\n",
            "....3......5................5.......................................................................\n",
            ".......3........5................5..................................................................\n",
            "..........3..........5................5.............................................................\n",
            ".............3............5................4........................................................\n",
            "................4..............5...............5....................................................\n"
          ],
          "name": "stdout"
        }
      ]
    },
    {
      "metadata": {
        "id": "xQ2Ga39e9VtJ",
        "colab_type": "code",
        "colab": {},
        "outputId": "92350dda-eecd-4b7a-ceb9-d047a50377cb"
      },
      "cell_type": "code",
      "source": [
        "# to generate figure 2 \n",
        "model2 = TrafficSimulation(traffic_density=0.1, simulation_runs=15, verbose=True)\n",
        "model2.run()"
      ],
      "execution_count": 0,
      "outputs": [
        {
          "output_type": "stream",
          "text": [
            "..........4..............1.....001........3.........2...........4...............5........3..........\n",
            "..............5...........1....01.1..........4........3.............5................4......4.......\n",
            "...................5.......2...0.0.2.............4.......3...............5...............4......5...\n",
            ".5......................3....0.1.0...3...............4......3.................5..............4......\n",
            "......4....................1.1..00......3................5.....4...................4.............4..\n",
            ".4........5.................0.0.01.........3..................3....5...................4............\n",
            ".....5.........4............1.1.1.1...........3..................4......5..................5........\n",
            "..........5........5.........0.0.0.2.............4...................5.......4..................5...\n",
            ".5.............4........3....1.1.1...2...............5....................4......5..................\n",
            "......5............4.......2..0.0.1....3..................4...................4.......4.............\n",
            "...........4...........4.....00.1..1......3...................5...................5.......5.........\n",
            "...............4...........0.01..2..1........3.....................5...................5.......4....\n",
            "...................4.......1.1.2...1.1..........3.......................5...................5......5\n",
            "....5..................4....0.2..2..0.2............3.........................4...................5..\n",
            "..5......4.................00...2..01...2.............4..........................5..................\n"
          ],
          "name": "stdout"
        }
      ]
    },
    {
      "metadata": {
        "id": "Di3btkDz9VtO",
        "colab_type": "code",
        "colab": {},
        "outputId": "a227dfef-6bb0-4142-8f2a-923a830a6de7"
      },
      "cell_type": "code",
      "source": [
        "#visualization\n",
        "import matplotlib.pyplot as plt \n",
        "import numpy as np\n",
        "def run_simulation(road_length=100,max_velocity=5, slow_prob=0.5, simulation_runs = 5, verbose=False, density_runs=20):\n",
        "    densities = []\n",
        "    traffic_flows = []\n",
        "    for i in np.linspace(0,1,20):\n",
        "        mod1 = TrafficSimulation(traffic_density=i, simulation_runs=simulation_runs)\n",
        "        mod1.run()\n",
        "        densities.append(i)\n",
        "        traffic_flows.append(mod1.cross_count/simulation_runs)\n",
        "        del mod1 \n",
        "    \n",
        "    #plotting\n",
        "    plt.plot(densities,traffic_flows)\n",
        "    plt.ylabel('Flow')\n",
        "    plt.xlabel('Density')\n",
        "    plt.show()\n",
        "    \n",
        "run_simulation(road_length=100,max_velocity=5, slow_prob=0.5, simulation_runs = 200, verbose=False, density_runs=20)\n",
        "    \n",
        "    \n"
      ],
      "execution_count": 0,
      "outputs": [
        {
          "output_type": "display_data",
          "data": {
            "image/png": "[encoded data removed]",
            "text/plain": [
              "<Figure size 432x288 with 1 Axes>"
            ]
          },
          "metadata": {
            "tags": [],
            "needs_background": "light"
          }
        }
      ]
    },
    {
      "metadata": {
        "id": "64lYZh8q9VtT",
        "colab_type": "code",
        "colab": {}
      },
      "cell_type": "code",
      "source": [
        "import numpy as sp\n",
        "import matplotlib.pyplot as plt\n",
        "\n",
        "class TrafficSimulation:\n",
        "    \n",
        "    def __init__(self, road_length=100, traffic_density=0.1, max_v=5, p_slow=0.5):\n",
        "        self.road_length= road_length\n",
        "        self.traffic_density= traffic_density\n",
        "        self.max_v= max_v\n",
        "        self.p_slow= p_slow\n",
        "        #we use -1 to represent empty cells\n",
        "        self.cells = np.zeros(road_length,dtype=np.int64)\n",
        "        self.flow_record = []\n",
        "        self.frames = []\n",
        "    \n",
        "    \n",
        "    def initialize(self):\n",
        "\n",
        "        self.cells.fill(-1)      \n",
        "        #we select the number of arrays that will have cars, matching the traffic density parameter \n",
        "        random_cells = sp.random.choice(range(self.road_length), size= int(round(self.traffic_density * self.road_length)), replace=False)\n",
        "        \n",
        "        #we replace according to the density by 1 that will represent a car in the cars\n",
        "        self.cells.flat[random_cells]=1\n",
        "        \n",
        "        if len(random_cells) >0:\n",
        "            self.cells.flat[random_cells[0]]=3\n",
        "            \n",
        "        self.time_step=0\n",
        "        self.changed= True \n",
        "        \n",
        "    def update_rules(self):\n",
        "        \n",
        "        self.time_step +=1\n",
        "        next_state = -1*np.ones(self.cells.shape, dtype=np.int64)        \n",
        "        \n",
        "        self.flow_map= np.zeros(self.cells.shape, dtype=np.int64)\n",
        "        cars = np.where(self.cells >=0)[0]\n",
        "        prev_car = [cars[(i-1)%len(cars)] for i in range(len(cars))]\n",
        "        next_car = [cars[(i+1)%len(cars)] for i in range(len(cars))]\n",
        "        def car_distance(x,y):\n",
        "            if y > x: return y - x\n",
        "            else: return self.cells.shape + (y - x)\n",
        "            \n",
        "        def middle_point(x,y):\n",
        "            if y > x: return (x+y)/2\n",
        "            else: return ((x + y+self.cells.shape)/2)%self.cells.shape    \n",
        "        \n",
        "        for i,car in enumerate(cars):\n",
        "            \n",
        "            if car_distance(car, next_car[i]) < self.cells[car] + 1:\n",
        "                self.cells[car]=min(car_distance(car, next_car[i]) - 1, 1)\n",
        "            \n",
        "            \n",
        "            elif prev_car[i] < car < next_car[i]:\n",
        "                if car > middle_point(prev_car[i],next_car[i]):\n",
        "                    if self.cells[car] > 0:\n",
        "                        self.cells[car]-=1\n",
        "\n",
        "                elif car < middle_point(prev_car[i],next_car[i]):\n",
        "                    if self.cells[car] < 5:\n",
        "                        self.cells[car]+=1\n",
        "                else:\n",
        "                    self.cells[car]=1\n",
        "                    \n",
        "            elif car < prev_car[i]:\n",
        "                if car < middle_point(prev_car[i],next_car[i]) < next_car[i]:\n",
        "                    if self.cells[car] < 5:\n",
        "                        self.cells[car]+=1\n",
        "                elif car == middle_point(prev_car[i],next_car[i]):\n",
        "                    self.cells[car]=1\n",
        "                else:\n",
        "                    if self.cells[car] > 0:\n",
        "                        self.cells[car]-=1\n",
        "            \n",
        "            else:\n",
        "                if prev_car[i] < middle_point(prev_car[i],next_car[i]) < car:\n",
        "                    if self.cells[car] > 0:\n",
        "                        self.cells[car]-=1\n",
        "                elif car == middle_point(prev_car[i],next_car[i]):\n",
        "                    self.cells[car]=1\n",
        "                else:\n",
        "                    if self.cells[car] < 0:\n",
        "                        self.cells[car]+=1\n",
        "                        \n",
        "        for i in cars[np.where(self.cells[cars]>0)]: \n",
        "            if np.random.random() < self.p_slow:\n",
        "                self.cells[i] -=1\n",
        "                \n",
        "        for x in cars:\n",
        "            next_state[(x+self.cells[x])%self.cells[0]]= self.cells[x]\n",
        "            if self.cells[x]>0:\n",
        "                for s in range(x, (x+self.cells[x])%self.cells.shape[0]):\n",
        "                    self.flow_map[s]+=1\n",
        "                    \n",
        "        self.flow_record.append(np.mean(self.flow_map))\n",
        "        self.cells = next_state\n",
        "    \n",
        "    def update(self):\n",
        "        \n",
        "        self.frames.append(self.cells.reshape(1,sim.cells.shape[0]))\n",
        "        self.time_step += 1\n",
        "        next_state = -1*np.ones(self.cells.shape,dtype=np.int64)\n",
        "        \n",
        "        self.flow_map = np.zeros(self.cells.shape,dtype=np.int64)\n",
        "        \n",
        "        cars = np.where(self.cells >= 0)[0]\n",
        "        next_car = [cars[(i+1)%len(cars)] for i in range(len(cars))]\n",
        "                \n",
        "        def car_distance(x,y):\n",
        "            if y > x: return y - x\n",
        "            else: return self.cells.shape + (y - x)\n",
        "\n",
        "        for i,car in enumerate(cars):\n",
        "            if self.cells[car] < self.max_v and car_distance(car, next_car[i]) > self.cells[car] + 1:\n",
        "                self.cells[car] += 1\n",
        "            else: self.cells[car] = min(car_distance(car, next_car[i]) - 1, self.cells[car])\n",
        "        for i in cars[np.where(self.cells[cars]>0)]: \n",
        "            if np.random.random() < self.p_slow:\n",
        "                self.cells[i] -=1\n",
        "        for x in cars:\n",
        "            next_state[(x+self.cells[x])%self.cells[0]]= self.cells[x]\n",
        "            if self.cells[x]>0:\n",
        "                for s in range(x, (x+self.cells[x])%self.cells.shape[0]):\n",
        "                    self.flow_map[s]+=1\n",
        "                    \n",
        "        self.flow_record.append(np.mean(self.flow_map))\n",
        "        self.cells = next_state"
      ],
      "execution_count": 0,
      "outputs": []
    },
    {
      "metadata": {
        "id": "oiAYD89H9VtW",
        "colab_type": "code",
        "colab": {},
        "outputId": "798af217-94ce-4c5e-f5cc-d41e9d0efb0c"
      },
      "cell_type": "code",
      "source": [
        "sim = TrafficSimulation(road_length=100,traffic_density=0.15, p_slow = 0.25)\n",
        "sim.initialize()\n",
        "\n",
        "flow = []\n",
        "densities = np.array([x*np.ones(20) for x in np.arange(0,1,0.05)]).ravel()\n",
        "\n",
        "for d in densities:\n",
        "    sim = TrafficSimulation(road_length=100,traffic_density=d, p_slow = 0.5)\n",
        "    sim.initialize()\n",
        "    for t in range(200):\n",
        "        sim.update()\n",
        "    flow.append(np.mean(sim.flow_record))\n",
        "\n",
        "density_value, average_flow = zip(*sorted((xVal, np.mean([yVal for a, yVal in zip(densities, flow) if xVal==a])) for xVal in set(densities)))\n",
        "    \n",
        "plt.plot(density_value,average_flow)\n",
        "plt.scatter(densities,flow,c='orange',s=1)\n",
        "plt.xticks(np.arange(0,1,0.1))\n",
        "plt.ylabel('Flow')\n",
        "plt.xlabel('Density')\n",
        "plt.show()"
      ],
      "execution_count": 0,
      "outputs": [
        {
          "output_type": "stream",
          "text": [
            "C:\\ProgramData\\Anaconda3\\lib\\site-packages\\ipykernel_launcher.py:122: RuntimeWarning: divide by zero encountered in longlong_scalars\n"
          ],
          "name": "stderr"
        },
        {
          "output_type": "display_data",
          "data": {
            "image/png": "[encoded data removed]",
            "text/plain": [
              "<Figure size 432x288 with 1 Axes>"
            ]
          },
          "metadata": {
            "tags": [],
            "needs_background": "light"
          }
        }
      ]
    },
    {
      "metadata": {
        "id": "aVOBkfXm9Vta",
        "colab_type": "code",
        "colab": {},
        "outputId": "fdd4c62b-7c5b-433a-f13b-500545f51305"
      },
      "cell_type": "code",
      "source": [
        "22%100\n"
      ],
      "execution_count": 0,
      "outputs": [
        {
          "output_type": "execute_result",
          "data": {
            "text/plain": [
              "22"
            ]
          },
          "metadata": {
            "tags": []
          },
          "execution_count": 26
        }
      ]
    },
    {
      "metadata": {
        "id": "2fsiXMLk9Vtf",
        "colab_type": "code",
        "colab": {},
        "outputId": "16c79e27-2cb0-4b07-a467-12302a014c8e"
      },
      "cell_type": "code",
      "source": [
        "(99+5)%(100)\n"
      ],
      "execution_count": 0,
      "outputs": [
        {
          "output_type": "execute_result",
          "data": {
            "text/plain": [
              "4"
            ]
          },
          "metadata": {
            "tags": []
          },
          "execution_count": 16
        }
      ]
    },
    {
      "metadata": {
        "id": "tnzL4B8a9Vtk",
        "colab_type": "code",
        "colab": {},
        "outputId": "ef2a3f0a-17cf-47f9-fe8f-44e975bd66db"
      },
      "cell_type": "code",
      "source": [
        "type(-1)"
      ],
      "execution_count": 0,
      "outputs": [
        {
          "output_type": "execute_result",
          "data": {
            "text/plain": [
              "int"
            ]
          },
          "metadata": {
            "tags": []
          },
          "execution_count": 2
        }
      ]
    },
    {
      "metadata": {
        "id": "Z9ezXiwi9Vtr",
        "colab_type": "code",
        "colab": {}
      },
      "cell_type": "code",
      "source": [
        "#### backup \n",
        "\n",
        "\n",
        "import random\n",
        "from copy import copy\n",
        "#resource http://www.programmersought.com/article/264757523/ \n",
        "        \n",
        "class TrafficSimulation:\n",
        "    \"\"\"\n",
        "    Base simulation class simulating traffic for a one lane highway using one dimensional cellular automata \n",
        "    \"\"\"\n",
        "    def __init__(self,road_length=100, traffic_density=0.03,max_velocity=5, slow_prob=0.5, simulation_runs = 5):\n",
        "        \"\"\"\n",
        "        Constructor function \n",
        "        Args: \n",
        "            road_length (int)\n",
        "            traffic_density(float)\n",
        "            max_velocity(int)\n",
        "            slow_prob(float)\n",
        "            simulation_runs(int)\n",
        "            \n",
        "        \"\"\"\n",
        "        self.road_length = int(road_length)\n",
        "        self.traffic_density = float(traffic_density) \n",
        "        self.max_velocity = int(max_velocity) \n",
        "        self.slow_prob = float(slow_prob)\n",
        "        self.state = [-1]*self.road_length\n",
        "        self.simulation_runs = int(simulation_runs)\n",
        "        self.initialize_state()\n",
        "        \n",
        "        \n",
        "    def initialize_state(self):\n",
        "        \"\"\"\n",
        "        Creates random starting positions for the specified number of cars.\n",
        "        Args: \n",
        "            None\n",
        "        Returns: \n",
        "            None\n",
        "        \"\"\"\n",
        "        #car positions \n",
        "        positions = random.sample(range(self.road_length), int(self.traffic_density*self.road_length))\n",
        "        #insert values at each position with starting velocities \n",
        "        for position in positions:\n",
        "            self.state[position] = random.randint(0,self.max_velocity)\n",
        "            \n",
        "            \n",
        "    def display(self):\n",
        "        \"\"\"\n",
        "        Prints the state of the simulation when called. Dots for empty spaces on the road and an integer value \n",
        "        to represent a car on the road by it's velocity\n",
        "        \"\"\"\n",
        "        print(''.join('.' if x == -1 else str(x) for x in self.state))\n",
        "        \n",
        "    def update_states(self):\n",
        "        \"\"\"\n",
        "        Step through the simulation executing first 3 update steps in one for loop and a second for loop \n",
        "        to move the 'cars'\n",
        "        \"\"\"\n",
        "        #preserve old state\n",
        "        old_state = copy(self.state)\n",
        "        #update velocities \n",
        "        for i in range(self.road_length):\n",
        "            if old_state[i] != -1:\n",
        "                #increment speed if it is not alredy max \n",
        "                if (old_state[i] + 1) <= self.max_velocity:\n",
        "                    new_speed = old_state[i] + 1\n",
        "                else:\n",
        "                    new_speed = old_state[i]\n",
        "                #update speed \n",
        "                #self.state[i] = new_speed #don't update speed yet\n",
        "                #slow down\n",
        "                #while we haven't encountered 0, continue getting next cell and increment box counter\n",
        "                box_counter = 0\n",
        "                next_cell_index = i\n",
        "                for _ in range(self.max_velocity):\n",
        "                    #get next cell, check if -1 and if so add to box_counter\n",
        "                    if old_state[(next_cell_index+1) % (self.road_length)] == -1:\n",
        "                        box_counter += 1\n",
        "                        next_cell_index = (next_cell_index+1) % (self.road_length)\n",
        "                    else:\n",
        "                        break \n",
        "                #check box_counter and update new_speed as appropriate.\n",
        "                if new_speed > box_counter:\n",
        "                    new_speed = box_counter\n",
        "                \n",
        "                #randomly reduce the speed by 1 based on the given probability \n",
        "                if random.random() < self.slow_prob:\n",
        "                    if new_speed > 0:\n",
        "                        new_speed -= 1 \n",
        "                    \n",
        "                #finally update the speed to self.state\n",
        "                self.state[i] = new_speed\n",
        "                        \n",
        "                    \n",
        "        #visualize before updating positions \n",
        "        self.display()\n",
        "            \n",
        "        #update positions by moving forward these speeds\n",
        "        # update the old state variable to use again \n",
        "        old_state = copy(self.state)\n",
        "        for k in range(self.road_length):\n",
        "            if old_state[k] != int(-1):\n",
        "                #According to the second rule, no collisions will occur therefore we can just move as we \n",
        "                # pass through the list\n",
        "                #print('next state is',((i+self.state[i])%(self.road_length)))\n",
        "                #print('self.state just before update',self.state)\n",
        "                self.state[((k+old_state[k])%(self.road_length))] = copy(old_state[k])\n",
        "                #reset the vacated cell to -1 \n",
        "                self.state[k] = -1\n",
        "                \n",
        "                \n",
        "    def run(self):\n",
        "        \"\"\"\n",
        "        Runs the simulation a certain number of steps \n",
        "        \"\"\"\n",
        "        for _ in range(self.simulation_runs):\n",
        "            self.update_states()\n",
        "            \n",
        "\n",
        "        \n",
        "        "
      ],
      "execution_count": 0,
      "outputs": []
    }
  ]
}